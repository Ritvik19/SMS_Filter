{
 "cells": [
  {
   "cell_type": "markdown",
   "metadata": {},
   "source": [
    "# Libraries"
   ]
  },
  {
   "cell_type": "code",
   "execution_count": 1,
   "metadata": {
    "ExecuteTime": {
     "end_time": "2020-05-11T18:20:26.964609Z",
     "start_time": "2020-05-11T18:20:25.121414Z"
    }
   },
   "outputs": [],
   "source": [
    "import numpy as np\n",
    "import pandas as pd\n",
    "import matplotlib.pyplot as plt\n",
    "\n",
    "import pickle, os\n",
    "from IPython.display import clear_output"
   ]
  },
  {
   "cell_type": "code",
   "execution_count": 2,
   "metadata": {
    "ExecuteTime": {
     "end_time": "2020-05-11T18:20:27.201489Z",
     "start_time": "2020-05-11T18:20:26.967601Z"
    }
   },
   "outputs": [
    {
     "name": "stderr",
     "output_type": "stream",
     "text": [
      "D:\\Users\\Ritvik\\Anaconda3\\envs\\datascience\\lib\\site-packages\\tqdm\\std.py:648: FutureWarning: The Panel class is removed from pandas. Accessing it from the top-level namespace will also be removed in the next version\n",
      "  from pandas import Panel\n"
     ]
    }
   ],
   "source": [
    "from tqdm.auto import tqdm, trange\n",
    "tqdm.pandas()"
   ]
  },
  {
   "cell_type": "code",
   "execution_count": 3,
   "metadata": {
    "ExecuteTime": {
     "end_time": "2020-05-11T18:20:29.630518Z",
     "start_time": "2020-05-11T18:20:27.206477Z"
    }
   },
   "outputs": [],
   "source": [
    "pd.options.display.max_colwidth = -1\n",
    "\n",
    "from dsutils.ml import *"
   ]
  },
  {
   "cell_type": "markdown",
   "metadata": {},
   "source": [
    "# Data"
   ]
  },
  {
   "cell_type": "code",
   "execution_count": 4,
   "metadata": {
    "ExecuteTime": {
     "end_time": "2020-05-11T18:20:30.543171Z",
     "start_time": "2020-05-11T18:20:29.633477Z"
    }
   },
   "outputs": [],
   "source": [
    "data1 = pd.read_csv('emails.csv')\n",
    "data2 = pd.read_csv('sms.csv')\n",
    "data3 = pd.read_csv('Youtube01-Psy.csv')\n",
    "data4 = pd.read_csv('Youtube02-KatyPerry.csv')\n",
    "data5 = pd.read_csv('Youtube03-LMFAO.csv')\n",
    "data6 = pd.read_csv('Youtube04-Eminem.csv')\n",
    "data7 = pd.read_csv('Youtube05-Shakira.csv')\n",
    "data8 = pd.read_csv('spam_or_not_spam.csv')"
   ]
  },
  {
   "cell_type": "markdown",
   "metadata": {},
   "source": [
    "## Integration"
   ]
  },
  {
   "cell_type": "code",
   "execution_count": 5,
   "metadata": {
    "ExecuteTime": {
     "end_time": "2020-05-11T18:21:16.552173Z",
     "start_time": "2020-05-11T18:20:30.545166Z"
    }
   },
   "outputs": [
    {
     "data": {
      "application/vnd.jupyter.widget-view+json": {
       "model_id": "be6bc115dadd4e32bfae556179fbbcfa",
       "version_major": 2,
       "version_minor": 0
      },
      "text/plain": [
       "HBox(children=(IntProgress(value=0, max=5728), HTML(value='')))"
      ]
     },
     "metadata": {},
     "output_type": "display_data"
    },
    {
     "name": "stdout",
     "output_type": "stream",
     "text": [
      "\n"
     ]
    },
    {
     "data": {
      "application/vnd.jupyter.widget-view+json": {
       "model_id": "62ecdbe77e304fdd81831a4e47ddf634",
       "version_major": 2,
       "version_minor": 0
      },
      "text/plain": [
       "HBox(children=(IntProgress(value=0, max=5572), HTML(value='')))"
      ]
     },
     "metadata": {},
     "output_type": "display_data"
    },
    {
     "name": "stdout",
     "output_type": "stream",
     "text": [
      "\n"
     ]
    },
    {
     "data": {
      "application/vnd.jupyter.widget-view+json": {
       "model_id": "562ec56932a84be79d658bd5ed3cc81a",
       "version_major": 2,
       "version_minor": 0
      },
      "text/plain": [
       "HBox(children=(IntProgress(value=0, max=350), HTML(value='')))"
      ]
     },
     "metadata": {},
     "output_type": "display_data"
    },
    {
     "name": "stdout",
     "output_type": "stream",
     "text": [
      "\n"
     ]
    },
    {
     "data": {
      "application/vnd.jupyter.widget-view+json": {
       "model_id": "f4a51bbecde24c6780f4eda5cbb59b64",
       "version_major": 2,
       "version_minor": 0
      },
      "text/plain": [
       "HBox(children=(IntProgress(value=0, max=350), HTML(value='')))"
      ]
     },
     "metadata": {},
     "output_type": "display_data"
    },
    {
     "name": "stdout",
     "output_type": "stream",
     "text": [
      "\n"
     ]
    },
    {
     "data": {
      "application/vnd.jupyter.widget-view+json": {
       "model_id": "9d4267a6537144f38c236abdb3016026",
       "version_major": 2,
       "version_minor": 0
      },
      "text/plain": [
       "HBox(children=(IntProgress(value=0, max=438), HTML(value='')))"
      ]
     },
     "metadata": {},
     "output_type": "display_data"
    },
    {
     "name": "stdout",
     "output_type": "stream",
     "text": [
      "\n"
     ]
    },
    {
     "data": {
      "application/vnd.jupyter.widget-view+json": {
       "model_id": "642ae1fb73ef408d9b1c75e2a24c95c4",
       "version_major": 2,
       "version_minor": 0
      },
      "text/plain": [
       "HBox(children=(IntProgress(value=0, max=448), HTML(value='')))"
      ]
     },
     "metadata": {},
     "output_type": "display_data"
    },
    {
     "name": "stdout",
     "output_type": "stream",
     "text": [
      "\n"
     ]
    },
    {
     "data": {
      "application/vnd.jupyter.widget-view+json": {
       "model_id": "cde144c453884becb0f6fbd277d75a55",
       "version_major": 2,
       "version_minor": 0
      },
      "text/plain": [
       "HBox(children=(IntProgress(value=0, max=370), HTML(value='')))"
      ]
     },
     "metadata": {},
     "output_type": "display_data"
    },
    {
     "name": "stdout",
     "output_type": "stream",
     "text": [
      "\n"
     ]
    },
    {
     "data": {
      "application/vnd.jupyter.widget-view+json": {
       "model_id": "60ce50b24f04431a8765239183f84a1c",
       "version_major": 2,
       "version_minor": 0
      },
      "text/plain": [
       "HBox(children=(IntProgress(value=0, max=3000), HTML(value='')))"
      ]
     },
     "metadata": {},
     "output_type": "display_data"
    },
    {
     "name": "stdout",
     "output_type": "stream",
     "text": [
      "\n",
      "Done\n",
      "15497\n"
     ]
    }
   ],
   "source": [
    "data = pd.DataFrame(columns=['Text', 'Spam'])\n",
    "\n",
    "for i in trange(len(data1)):\n",
    "    data = pd.concat([data, pd.DataFrame({\n",
    "        'Text': [data1['text'][i].replace('Subject: ', '')],\n",
    "        'Spam': [data1['spam'][i]]\n",
    "    })])\n",
    "\n",
    "for i in trange(len(data2)):\n",
    "    data = pd.concat([data, pd.DataFrame({\n",
    "        'Text': [data2['message'][i]],\n",
    "        'Spam': [int(data2['label'][i] == 'spam')]\n",
    "    })])\n",
    "\n",
    "for i in trange(len(data3)):\n",
    "    data = pd.concat([data, pd.DataFrame({\n",
    "        'Text': [data3['CONTENT'][i]],\n",
    "        'Spam': [data3['CLASS'][i]]\n",
    "    })])\n",
    "\n",
    "for i in trange(len(data4)):\n",
    "    data = pd.concat([data, pd.DataFrame({\n",
    "        'Text': [data4['CONTENT'][i]],\n",
    "        'Spam': [data4['CLASS'][i]]\n",
    "    })])\n",
    "    \n",
    "for i in trange(len(data5)):\n",
    "    data = pd.concat([data, pd.DataFrame({\n",
    "        'Text': [data5['CONTENT'][i]],\n",
    "        'Spam': [data5['CLASS'][i]]\n",
    "    })])\n",
    "\n",
    "for i in trange(len(data6)):\n",
    "    data = pd.concat([data, pd.DataFrame({\n",
    "        'Text': [data6['CONTENT'][i]],\n",
    "        'Spam': [data6['CLASS'][i]]\n",
    "    })])  \n",
    "\n",
    "for i in trange(len(data7)):\n",
    "    data = pd.concat([data, pd.DataFrame({\n",
    "        'Text': [data7['CONTENT'][i]],\n",
    "        'Spam': [data7['CLASS'][i]]\n",
    "    })])\n",
    "    \n",
    "for i in trange(len(data8)):\n",
    "    data = pd.concat([data, pd.DataFrame({\n",
    "        'Text': [data8['email'][i]],\n",
    "        'Spam': [data8['label'][i]]\n",
    "    })])    \n",
    "    \n",
    "data.drop_duplicates(inplace=True)\n",
    "    \n",
    "print('Done')\n",
    "print(len(data))"
   ]
  },
  {
   "cell_type": "code",
   "execution_count": 6,
   "metadata": {
    "ExecuteTime": {
     "end_time": "2020-05-11T18:21:16.592066Z",
     "start_time": "2020-05-11T18:21:16.556162Z"
    }
   },
   "outputs": [
    {
     "data": {
      "text/plain": [
       "3.7103343465045593"
      ]
     },
     "execution_count": 6,
     "metadata": {},
     "output_type": "execute_result"
    }
   ],
   "source": [
    "(len(data[data['Spam'] == 0])/len(data[data['Spam'] == 1]))"
   ]
  },
  {
   "cell_type": "code",
   "execution_count": 7,
   "metadata": {
    "ExecuteTime": {
     "end_time": "2020-05-11T18:21:16.835010Z",
     "start_time": "2020-05-11T18:21:16.596055Z"
    }
   },
   "outputs": [],
   "source": [
    "data = pd.concat([\n",
    "    data[data['Spam'] == 1],\n",
    "    data[data['Spam'] == 1],\n",
    "    data[data['Spam'] == 1],\n",
    "    data[data['Spam'] == 1].sample(frac=0.71),\n",
    "    data[data['Spam'] == 0]\n",
    "]).sample(frac=1.00)"
   ]
  },
  {
   "cell_type": "markdown",
   "metadata": {},
   "source": [
    "# Pipeline"
   ]
  },
  {
   "cell_type": "code",
   "execution_count": 8,
   "metadata": {
    "ExecuteTime": {
     "end_time": "2020-05-11T18:21:21.862062Z",
     "start_time": "2020-05-11T18:21:16.838970Z"
    }
   },
   "outputs": [],
   "source": [
    "from sklearn.pipeline import Pipeline\n",
    "from sklearn.base import BaseEstimator\n",
    "\n",
    "import nltk, re\n",
    "from nltk.stem.porter import PorterStemmer\n",
    "from nltk.stem import WordNetLemmatizer\n",
    "\n",
    "from sklearn.feature_extraction.text import TfidfVectorizer\n",
    "\n",
    "from sklearn.naive_bayes import MultinomialNB, GaussianNB, BernoulliNB\n",
    "from sklearn.linear_model import LogisticRegression, SGDClassifier\n",
    "from sklearn.tree import DecisionTreeClassifier\n",
    "from sklearn.ensemble import VotingClassifier, GradientBoostingClassifier, BaggingClassifier, RandomForestClassifier"
   ]
  },
  {
   "cell_type": "code",
   "execution_count": 9,
   "metadata": {
    "ExecuteTime": {
     "end_time": "2020-05-11T18:21:21.925892Z",
     "start_time": "2020-05-11T18:21:21.866053Z"
    }
   },
   "outputs": [],
   "source": [
    "class TextCleaner(BaseEstimator):\n",
    "    \n",
    "    def __init__(self, rsw=True, stm=False, lem=False):\n",
    "        \n",
    "        self.rsw = rsw\n",
    "        self.stm = stm\n",
    "        self.lem = lem\n",
    "        \n",
    "        self.stop_words = set(nltk.corpus.stopwords.words('english'))\n",
    "        self.ps = PorterStemmer()\n",
    "        self.wnl = WordNetLemmatizer()\n",
    "        \n",
    "    def fit(self, x, y=None):\n",
    "        return self\n",
    "    \n",
    "    def spell_correct(self, text):\n",
    "        text = re.sub(r\"can\\'t\", \"can not\", text)\n",
    "        text = re.sub(r\"what's\", \"what is \", text) \n",
    "        text = re.sub(r\"\\'s\", \" \", text)\n",
    "        text = re.sub(r\"\\'ve\", \" have \", text)\n",
    "        text = re.sub(r\"n't\", \" not \", text)\n",
    "        text = re.sub(r\"i'm\", \"i am \", text)\n",
    "        text = re.sub(r\"\\'re\", \" are \", text)\n",
    "        text = re.sub(r\"\\'d\", \" would \", text)\n",
    "        text = re.sub(r\"\\'ll\", \" will \", text)\n",
    "        text = re.sub(r\"\\0s\", \"0\", text)    \n",
    "        return text\n",
    "\n",
    "    def remove_url(self, text):\n",
    "        URL_REGEX = re.compile(r'''((http[s]?://)[^ <>'\"{}|\\\\^`[\\]]*)''')\n",
    "        return URL_REGEX.sub(r' ', text)\n",
    "\n",
    "    def remove_handles(self, text):\n",
    "        HANDLES_REGEX = re.compile(r'@\\S+')\n",
    "        return HANDLES_REGEX.sub(r' ', text)\n",
    "\n",
    "    def remove_incomplete_last_word(self, text):\n",
    "        INCOMPLETE_LAST_WORD_REGEX = re.compile(r'\\S+…')\n",
    "        return INCOMPLETE_LAST_WORD_REGEX.sub(r' ', text )\n",
    "\n",
    "    def remove_punc(self, text):\n",
    "        return re.sub(r\"\\W\", ' ', text)\n",
    "\n",
    "\n",
    "    def remove_num(self, text):\n",
    "        return re.sub(r\"\\d\", ' ', text)\n",
    "\n",
    "    def remove_extra_spaces(self, text):\n",
    "        return re.sub(r\"\\s+\", ' ', text).strip()\n",
    "\n",
    "    def remove_shortwords(self, text): \n",
    "        return ' '.join(word for word in text.split() if len(word) > 2)\n",
    "\n",
    "    def lower_case(self, text):\n",
    "        return  text.lower()\n",
    "\n",
    "    def remove_stopwords(self, text):\n",
    "        return ' '.join(word for word in text.split() if word not in self.stop_words)\n",
    "\n",
    "    def ps_stem(self, text):\n",
    "        return ' '.join(self.ps.stem(word) for word in text.split())\n",
    "\n",
    "    def wnl_lemmatize(self, text):\n",
    "        return ' '.join(self.wnl.lemmatize(word) for word in text.split())\n",
    "\n",
    "    def clean(self, x, rsw, stm, lem):\n",
    "        x = str(x)\n",
    "        x = self.remove_url(str(x))\n",
    "        x = self.lower_case(str(x))\n",
    "        x = self.spell_correct(str(x))\n",
    "        x = self.remove_punc(str(x))\n",
    "        x = self.remove_num(str(x))\n",
    "        x = self.remove_extra_spaces(str(x))\n",
    "        x = self.remove_shortwords(str(x))\n",
    "\n",
    "        if rsw:\n",
    "            x = self.remove_stopwords(str(x))\n",
    "        if stm:\n",
    "            x = self.ps_stem(str(x))\n",
    "        if lem:\n",
    "            x = self.wnl_lemmatize(str(x))\n",
    "        return x\n",
    "    \n",
    "    def transform(self, x):\n",
    "        x = map(lambda text: self.clean(text, self.rsw, self.stm, self.lem)  , x)\n",
    "        x = np.array(list(x))\n",
    "        return x"
   ]
  },
  {
   "cell_type": "code",
   "execution_count": 10,
   "metadata": {
    "ExecuteTime": {
     "end_time": "2020-05-11T18:57:36.775806Z",
     "start_time": "2020-05-11T18:21:21.928885Z"
    }
   },
   "outputs": [
    {
     "name": "stdout",
     "output_type": "stream",
     "text": [
      "Mean Loss 0.5283665542090938 +- 0.00501891262449813\n"
     ]
    },
    {
     "data": {
      "image/png": "[encoded data removed]",
      "text/plain": [
       "<Figure size 1440x432 with 3 Axes>"
      ]
     },
     "metadata": {
      "needs_background": "light"
     },
     "output_type": "display_data"
    }
   ],
   "source": [
    "cleaner = TextCleaner()\n",
    "\n",
    "vectorizer = TfidfVectorizer(smooth_idf=True)\n",
    "\n",
    "model = VotingClassifier(estimators=[\n",
    "    ('MNB', MultinomialNB()),\n",
    "    ('BNB', BernoulliNB()),\n",
    "    ('SGD-L1', SGDClassifier(loss='log', max_iter=100000, tol=0.001, penalty='l1', random_state=101, warm_start=True, \n",
    "                             class_weight='balanced', early_stopping=True)),\n",
    "    ('SGD-L2', SGDClassifier(loss='log', max_iter=100000, tol=0.001, penalty='l2', random_state=101, warm_start=True, \n",
    "                             class_weight='balanced', early_stopping=True)),\n",
    "    ('SGD-H1', SGDClassifier(loss='hinge', max_iter=100000, tol=0.001, penalty='l1', random_state=101, warm_start=True, \n",
    "                             class_weight='balanced', early_stopping=True)),\n",
    "    ('SGD-H2', SGDClassifier(loss='hinge', max_iter=100000, tol=0.001, penalty='l2', random_state=101, warm_start=True, \n",
    "                             class_weight='balanced', early_stopping=True)),\n",
    "    ('SGD-P2', SGDClassifier(loss='perceptron', max_iter=100000, tol=0.001, penalty='l2', random_state=101, warm_start=True,\n",
    "                             class_weight='balanced', early_stopping=True)),\n",
    "    ('LR-1', LogisticRegression(solver='liblinear', max_iter=100000, class_weight='balanced', random_state=101, \n",
    "                                warm_start=True)),\n",
    "    ('LR-2', LogisticRegression(solver='lbfgs', max_iter=100000, class_weight='balanced', random_state=101, warm_start=True)),\n",
    "    ('DT', DecisionTreeClassifier(random_state=101)),\n",
    "], weights=[1, 1, 1, 1, 1, 36, 1, 1, 1, 1])\n",
    "\n",
    "p = Pipeline([\n",
    "    ('clean', cleaner),\n",
    "    ('features', vectorizer),\n",
    "    ('train', model)\n",
    "])\n",
    "\n",
    "p_performance, p_cm, p_model = train_model_on_vects(p, data['Text'].values, data['Spam'].astype(int).values)\n",
    "print('Mean Loss', np.mean(p_performance['loss']), '+-', np.std(p_performance['loss']))"
   ]
  },
  {
   "cell_type": "code",
   "execution_count": 11,
   "metadata": {
    "ExecuteTime": {
     "end_time": "2020-05-11T18:57:44.450169Z",
     "start_time": "2020-05-11T18:57:37.889882Z"
    }
   },
   "outputs": [],
   "source": [
    "pickle.dump(p, open('SpamFilterPipeline.pkl', 'wb'))"
   ]
  }
 ],
 "metadata": {
  "kernelspec": {
   "display_name": "Python 3",
   "language": "python",
   "name": "python3"
  },
  "language_info": {
   "codemirror_mode": {
    "name": "ipython",
    "version": 3
   },
   "file_extension": ".py",
   "mimetype": "text/x-python",
   "name": "python",
   "nbconvert_exporter": "python",
   "pygments_lexer": "ipython3",
   "version": "3.7.3"
  },
  "toc": {
   "base_numbering": 1,
   "nav_menu": {},
   "number_sections": true,
   "sideBar": true,
   "skip_h1_title": false,
   "title_cell": "Table of Contents",
   "title_sidebar": "Contents",
   "toc_cell": false,
   "toc_position": {},
   "toc_section_display": true,
   "toc_window_display": false
  },
  "varInspector": {
   "cols": {
    "lenName": 16,
    "lenType": 16,
    "lenVar": 40
   },
   "kernels_config": {
    "python": {
     "delete_cmd_postfix": "",
     "delete_cmd_prefix": "del ",
     "library": "var_list.py",
     "varRefreshCmd": "print(var_dic_list())"
    },
    "r": {
     "delete_cmd_postfix": ") ",
     "delete_cmd_prefix": "rm(",
     "library": "var_list.r",
     "varRefreshCmd": "cat(var_dic_list()) "
    }
   },
   "types_to_exclude": [
    "module",
    "function",
    "builtin_function_or_method",
    "instance",
    "_Feature"
   ],
   "window_display": false
  }
 },
 "nbformat": 4,
 "nbformat_minor": 2
}
