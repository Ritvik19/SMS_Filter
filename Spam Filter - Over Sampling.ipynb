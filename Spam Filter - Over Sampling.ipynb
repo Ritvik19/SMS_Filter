{
 "cells": [
  {
   "cell_type": "markdown",
   "metadata": {},
   "source": [
    "# Libraries"
   ]
  },
  {
   "cell_type": "code",
   "execution_count": 1,
   "metadata": {
    "ExecuteTime": {
     "end_time": "2020-04-03T09:21:44.565237Z",
     "start_time": "2020-04-03T09:21:42.804262Z"
    }
   },
   "outputs": [],
   "source": [
    "import numpy as np\n",
    "import pandas as pd\n",
    "import matplotlib.pyplot as plt\n",
    "\n",
    "import pickle, os\n",
    "from IPython.display import clear_output"
   ]
  },
  {
   "cell_type": "code",
   "execution_count": 2,
   "metadata": {
    "ExecuteTime": {
     "end_time": "2020-04-03T09:21:44.601143Z",
     "start_time": "2020-04-03T09:21:44.568228Z"
    }
   },
   "outputs": [
    {
     "name": "stderr",
     "output_type": "stream",
     "text": [
      "D:\\Users\\Ritvik\\Anaconda3\\envs\\datascience\\lib\\site-packages\\tqdm\\std.py:648: FutureWarning: The Panel class is removed from pandas. Accessing it from the top-level namespace will also be removed in the next version\n",
      "  from pandas import Panel\n"
     ]
    }
   ],
   "source": [
    "from tqdm.auto import tqdm, trange\n",
    "tqdm.pandas()"
   ]
  },
  {
   "cell_type": "code",
   "execution_count": 3,
   "metadata": {
    "ExecuteTime": {
     "end_time": "2020-04-03T09:21:44.702869Z",
     "start_time": "2020-04-03T09:21:44.607125Z"
    }
   },
   "outputs": [],
   "source": [
    "pd.options.display.max_colwidth = -1\n",
    "%matplotlib inline"
   ]
  },
  {
   "cell_type": "markdown",
   "metadata": {},
   "source": [
    "# Data"
   ]
  },
  {
   "cell_type": "code",
   "execution_count": 4,
   "metadata": {
    "ExecuteTime": {
     "end_time": "2020-04-03T09:21:45.094696Z",
     "start_time": "2020-04-03T09:21:44.705861Z"
    }
   },
   "outputs": [],
   "source": [
    "data1 = pd.read_csv('emails.csv')\n",
    "data2 = pd.read_csv('sms.csv')\n",
    "data3 = pd.read_csv('Youtube01-Psy.csv')\n",
    "data4 = pd.read_csv('Youtube02-KatyPerry.csv')\n",
    "data5 = pd.read_csv('Youtube03-LMFAO.csv')\n",
    "data6 = pd.read_csv('Youtube04-Eminem.csv')\n",
    "data7 = pd.read_csv('Youtube05-Shakira.csv')\n",
    "data8 = pd.read_csv('spam_or_not_spam.csv')"
   ]
  },
  {
   "cell_type": "code",
   "execution_count": 5,
   "metadata": {
    "ExecuteTime": {
     "end_time": "2020-04-03T09:21:45.117630Z",
     "start_time": "2020-04-03T09:21:45.096686Z"
    }
   },
   "outputs": [
    {
     "data": {
      "text/html": [
       "<div>\n",
       "<style scoped>\n",
       "    .dataframe tbody tr th:only-of-type {\n",
       "        vertical-align: middle;\n",
       "    }\n",
       "\n",
       "    .dataframe tbody tr th {\n",
       "        vertical-align: top;\n",
       "    }\n",
       "\n",
       "    .dataframe thead th {\n",
       "        text-align: right;\n",
       "    }\n",
       "</style>\n",
       "<table border=\"1\" class=\"dataframe\">\n",
       "  <thead>\n",
       "    <tr style=\"text-align: right;\">\n",
       "      <th></th>\n",
       "      <th>text</th>\n",
       "      <th>spam</th>\n",
       "    </tr>\n",
       "  </thead>\n",
       "  <tbody>\n",
       "    <tr>\n",
       "      <td>0</td>\n",
       "      <td>Subject: naturally irresistible your corporate identity  lt is really hard to recollect a company : the  market is full of suqgestions and the information isoverwhelminq ; but a good  catchy logo , stylish statlonery and outstanding website  will make the task much easier .  we do not promise that havinq ordered a iogo your  company will automaticaily become a world ieader : it isguite ciear that  without good products , effective business organization and practicable aim it  will be hotat nowadays market ; but we do promise that your marketing efforts  will become much more effective . here is the list of clear  benefits : creativeness : hand - made , original logos , specially done  to reflect your distinctive company image . convenience : logo and stationery  are provided in all formats ; easy - to - use content management system letsyou  change your website content and even its structure . promptness : you  will see logo drafts within three business days . affordability : your  marketing break - through shouldn ' t make gaps in your budget . 100 % satisfaction  guaranteed : we provide unlimited amount of changes with no extra fees for you to  be surethat you will love the result of this collaboration . have a look at our  portfolio _ _ _ _ _ _ _ _ _ _ _ _ _ _ _ _ _ _ _ _ _ _ _ _ _ _ _ _ _ _ _ _ _ _ _ _ _ _ _ _ _ _ _ _ _ _ _ _ _ _ _ _ not interested . . . _ _ _ _ _ _ _ _ _ _ _ _ _ _ _ _ _ _ _ _ _ _ _ _ _ _ _ _ _ _ _ _ _ _ _ _ _ _ _ _ _ _ _ _ _ _ _ _ _ _ _ _</td>\n",
       "      <td>1</td>\n",
       "    </tr>\n",
       "    <tr>\n",
       "      <td>1</td>\n",
       "      <td>Subject: the stock trading gunslinger  fanny is merrill but muzo not colza attainder and penultimate like esmark perspicuous ramble is segovia not group try slung kansas tanzania yes chameleon or continuant clothesman no  libretto is chesapeake but tight not waterway herald and hawthorn like chisel morristown superior is deoxyribonucleic not clockwork try hall incredible mcdougall yes hepburn or einsteinian earmark no  sapling is boar but duane not plain palfrey and inflexible like huzzah pepperoni bedtime is nameable not attire try edt chronography optima yes pirogue or diffusion albeit no</td>\n",
       "      <td>1</td>\n",
       "    </tr>\n",
       "    <tr>\n",
       "      <td>2</td>\n",
       "      <td>Subject: unbelievable new homes made easy  im wanting to show you this  homeowner  you have been pre - approved for a $ 454 , 169 home loan at a 3 . 72 fixed rate .  this offer is being extended to you unconditionally and your credit is in no way a factor .  to take advantage of this limited time opportunity  all we ask is that you visit our website and complete  the 1 minute post approval form  look foward to hearing from you ,  dorcas pittman</td>\n",
       "      <td>1</td>\n",
       "    </tr>\n",
       "    <tr>\n",
       "      <td>3</td>\n",
       "      <td>Subject: 4 color printing special  request additional information now ! click here  click here for a printable version of our order form ( pdf format )  phone : ( 626 ) 338 - 8090 fax : ( 626 ) 338 - 8102 e - mail : ramsey @ goldengraphix . com  request additional information now ! click here  click here for a printable version of our order form ( pdf format )  golden graphix &amp; printing 5110 azusa canyon rd . irwindale , ca 91706 this e - mail message is an advertisement and / or solicitation .</td>\n",
       "      <td>1</td>\n",
       "    </tr>\n",
       "    <tr>\n",
       "      <td>4</td>\n",
       "      <td>Subject: do not have money , get software cds from here !  software compatibility . . . . ain ' t it great ?  grow old along with me the best is yet to be .  all tradgedies are finish ' d by death . all comedies are ended by marriage .</td>\n",
       "      <td>1</td>\n",
       "    </tr>\n",
       "  </tbody>\n",
       "</table>\n",
       "</div>"
      ],
      "text/plain": [
       "                                                                                                                                                                                                                                                                                                                                                                                                                                                                                                                                                                                                                                                                                                                                                                                                                                                                                                                                                                                                                                                                                                                                                                                                                                                                                                                                                                                                                                                                                                                                           text  \\\n",
       "0  Subject: naturally irresistible your corporate identity  lt is really hard to recollect a company : the  market is full of suqgestions and the information isoverwhelminq ; but a good  catchy logo , stylish statlonery and outstanding website  will make the task much easier .  we do not promise that havinq ordered a iogo your  company will automaticaily become a world ieader : it isguite ciear that  without good products , effective business organization and practicable aim it  will be hotat nowadays market ; but we do promise that your marketing efforts  will become much more effective . here is the list of clear  benefits : creativeness : hand - made , original logos , specially done  to reflect your distinctive company image . convenience : logo and stationery  are provided in all formats ; easy - to - use content management system letsyou  change your website content and even its structure . promptness : you  will see logo drafts within three business days . affordability : your  marketing break - through shouldn ' t make gaps in your budget . 100 % satisfaction  guaranteed : we provide unlimited amount of changes with no extra fees for you to  be surethat you will love the result of this collaboration . have a look at our  portfolio _ _ _ _ _ _ _ _ _ _ _ _ _ _ _ _ _ _ _ _ _ _ _ _ _ _ _ _ _ _ _ _ _ _ _ _ _ _ _ _ _ _ _ _ _ _ _ _ _ _ _ _ not interested . . . _ _ _ _ _ _ _ _ _ _ _ _ _ _ _ _ _ _ _ _ _ _ _ _ _ _ _ _ _ _ _ _ _ _ _ _ _ _ _ _ _ _ _ _ _ _ _ _ _ _ _ _   \n",
       "1  Subject: the stock trading gunslinger  fanny is merrill but muzo not colza attainder and penultimate like esmark perspicuous ramble is segovia not group try slung kansas tanzania yes chameleon or continuant clothesman no  libretto is chesapeake but tight not waterway herald and hawthorn like chisel morristown superior is deoxyribonucleic not clockwork try hall incredible mcdougall yes hepburn or einsteinian earmark no  sapling is boar but duane not plain palfrey and inflexible like huzzah pepperoni bedtime is nameable not attire try edt chronography optima yes pirogue or diffusion albeit no                                                                                                                                                                                                                                                                                                                                                                                                                                                                                                                                                                                                                                                                                                                                                                                                                                                                                                                          \n",
       "2  Subject: unbelievable new homes made easy  im wanting to show you this  homeowner  you have been pre - approved for a $ 454 , 169 home loan at a 3 . 72 fixed rate .  this offer is being extended to you unconditionally and your credit is in no way a factor .  to take advantage of this limited time opportunity  all we ask is that you visit our website and complete  the 1 minute post approval form  look foward to hearing from you ,  dorcas pittman                                                                                                                                                                                                                                                                                                                                                                                                                                                                                                                                                                                                                                                                                                                                                                                                                                                                                                                                                                                                                                                                               \n",
       "3  Subject: 4 color printing special  request additional information now ! click here  click here for a printable version of our order form ( pdf format )  phone : ( 626 ) 338 - 8090 fax : ( 626 ) 338 - 8102 e - mail : ramsey @ goldengraphix . com  request additional information now ! click here  click here for a printable version of our order form ( pdf format )  golden graphix & printing 5110 azusa canyon rd . irwindale , ca 91706 this e - mail message is an advertisement and / or solicitation .                                                                                                                                                                                                                                                                                                                                                                                                                                                                                                                                                                                                                                                                                                                                                                                                                                                                                                                                                                                                                            \n",
       "4  Subject: do not have money , get software cds from here !  software compatibility . . . . ain ' t it great ?  grow old along with me the best is yet to be .  all tradgedies are finish ' d by death . all comedies are ended by marriage .                                                                                                                                                                                                                                                                                                                                                                                                                                                                                                                                                                                                                                                                                                                                                                                                                                                                                                                                                                                                                                                                                                                                                                                                                                                                                                    \n",
       "\n",
       "   spam  \n",
       "0  1     \n",
       "1  1     \n",
       "2  1     \n",
       "3  1     \n",
       "4  1     "
      ]
     },
     "execution_count": 5,
     "metadata": {},
     "output_type": "execute_result"
    }
   ],
   "source": [
    "data1.head()"
   ]
  },
  {
   "cell_type": "code",
   "execution_count": 6,
   "metadata": {
    "ExecuteTime": {
     "end_time": "2020-04-03T09:21:45.248556Z",
     "start_time": "2020-04-03T09:21:45.120623Z"
    }
   },
   "outputs": [
    {
     "data": {
      "text/html": [
       "<div>\n",
       "<style scoped>\n",
       "    .dataframe tbody tr th:only-of-type {\n",
       "        vertical-align: middle;\n",
       "    }\n",
       "\n",
       "    .dataframe tbody tr th {\n",
       "        vertical-align: top;\n",
       "    }\n",
       "\n",
       "    .dataframe thead th {\n",
       "        text-align: right;\n",
       "    }\n",
       "</style>\n",
       "<table border=\"1\" class=\"dataframe\">\n",
       "  <thead>\n",
       "    <tr style=\"text-align: right;\">\n",
       "      <th></th>\n",
       "      <th>Unnamed: 0</th>\n",
       "      <th>label</th>\n",
       "      <th>message</th>\n",
       "      <th>length</th>\n",
       "    </tr>\n",
       "  </thead>\n",
       "  <tbody>\n",
       "    <tr>\n",
       "      <td>0</td>\n",
       "      <td>0</td>\n",
       "      <td>ham</td>\n",
       "      <td>Go until jurong point, crazy.. Available only in bugis n great world la e buffet... Cine there got amore wat...</td>\n",
       "      <td>111</td>\n",
       "    </tr>\n",
       "    <tr>\n",
       "      <td>1</td>\n",
       "      <td>1</td>\n",
       "      <td>ham</td>\n",
       "      <td>Ok lar... Joking wif u oni...</td>\n",
       "      <td>29</td>\n",
       "    </tr>\n",
       "    <tr>\n",
       "      <td>2</td>\n",
       "      <td>2</td>\n",
       "      <td>spam</td>\n",
       "      <td>Free entry in 2 a wkly comp to win FA Cup final tkts 21st May 2005. Text FA to 87121 to receive entry question(std txt rate)T&amp;C's apply 08452810075over18's</td>\n",
       "      <td>155</td>\n",
       "    </tr>\n",
       "    <tr>\n",
       "      <td>3</td>\n",
       "      <td>3</td>\n",
       "      <td>ham</td>\n",
       "      <td>U dun say so early hor... U c already then say...</td>\n",
       "      <td>49</td>\n",
       "    </tr>\n",
       "    <tr>\n",
       "      <td>4</td>\n",
       "      <td>4</td>\n",
       "      <td>ham</td>\n",
       "      <td>Nah I don't think he goes to usf, he lives around here though</td>\n",
       "      <td>61</td>\n",
       "    </tr>\n",
       "  </tbody>\n",
       "</table>\n",
       "</div>"
      ],
      "text/plain": [
       "   Unnamed: 0 label  \\\n",
       "0  0           ham    \n",
       "1  1           ham    \n",
       "2  2           spam   \n",
       "3  3           ham    \n",
       "4  4           ham    \n",
       "\n",
       "                                                                                                                                                       message  \\\n",
       "0  Go until jurong point, crazy.. Available only in bugis n great world la e buffet... Cine there got amore wat...                                               \n",
       "1  Ok lar... Joking wif u oni...                                                                                                                                 \n",
       "2  Free entry in 2 a wkly comp to win FA Cup final tkts 21st May 2005. Text FA to 87121 to receive entry question(std txt rate)T&C's apply 08452810075over18's   \n",
       "3  U dun say so early hor... U c already then say...                                                                                                             \n",
       "4  Nah I don't think he goes to usf, he lives around here though                                                                                                 \n",
       "\n",
       "   length  \n",
       "0  111     \n",
       "1  29      \n",
       "2  155     \n",
       "3  49      \n",
       "4  61      "
      ]
     },
     "execution_count": 6,
     "metadata": {},
     "output_type": "execute_result"
    }
   ],
   "source": [
    "data2.head()"
   ]
  },
  {
   "cell_type": "code",
   "execution_count": 7,
   "metadata": {
    "ExecuteTime": {
     "end_time": "2020-04-03T09:21:45.422096Z",
     "start_time": "2020-04-03T09:21:45.252545Z"
    }
   },
   "outputs": [
    {
     "data": {
      "text/html": [
       "<div>\n",
       "<style scoped>\n",
       "    .dataframe tbody tr th:only-of-type {\n",
       "        vertical-align: middle;\n",
       "    }\n",
       "\n",
       "    .dataframe tbody tr th {\n",
       "        vertical-align: top;\n",
       "    }\n",
       "\n",
       "    .dataframe thead th {\n",
       "        text-align: right;\n",
       "    }\n",
       "</style>\n",
       "<table border=\"1\" class=\"dataframe\">\n",
       "  <thead>\n",
       "    <tr style=\"text-align: right;\">\n",
       "      <th></th>\n",
       "      <th>COMMENT_ID</th>\n",
       "      <th>AUTHOR</th>\n",
       "      <th>DATE</th>\n",
       "      <th>CONTENT</th>\n",
       "      <th>CLASS</th>\n",
       "    </tr>\n",
       "  </thead>\n",
       "  <tbody>\n",
       "    <tr>\n",
       "      <td>0</td>\n",
       "      <td>LZQPQhLyRh80UYxNuaDWhIGQYNQ96IuCg-AYWqNPjpU</td>\n",
       "      <td>Julius NM</td>\n",
       "      <td>2013-11-07T06:20:48</td>\n",
       "      <td>Huh, anyway check out this you[tube] channel: kobyoshi02</td>\n",
       "      <td>1</td>\n",
       "    </tr>\n",
       "    <tr>\n",
       "      <td>1</td>\n",
       "      <td>LZQPQhLyRh_C2cTtd9MvFRJedxydaVW-2sNg5Diuo4A</td>\n",
       "      <td>adam riyati</td>\n",
       "      <td>2013-11-07T12:37:15</td>\n",
       "      <td>Hey guys check out my new channel and our first vid THIS IS US THE  MONKEYS!!! I'm the monkey in the white shirt,please leave a like comment  and please subscribe!!!!</td>\n",
       "      <td>1</td>\n",
       "    </tr>\n",
       "    <tr>\n",
       "      <td>2</td>\n",
       "      <td>LZQPQhLyRh9MSZYnf8djyk0gEF9BHDPYrrK-qCczIY8</td>\n",
       "      <td>Evgeny Murashkin</td>\n",
       "      <td>2013-11-08T17:34:21</td>\n",
       "      <td>just for test I have to say murdev.com</td>\n",
       "      <td>1</td>\n",
       "    </tr>\n",
       "    <tr>\n",
       "      <td>3</td>\n",
       "      <td>z13jhp0bxqncu512g22wvzkasxmvvzjaz04</td>\n",
       "      <td>ElNino Melendez</td>\n",
       "      <td>2013-11-09T08:28:43</td>\n",
       "      <td>me shaking my sexy ass on my channel enjoy ^_^ ﻿</td>\n",
       "      <td>1</td>\n",
       "    </tr>\n",
       "    <tr>\n",
       "      <td>4</td>\n",
       "      <td>z13fwbwp1oujthgqj04chlngpvzmtt3r3dw</td>\n",
       "      <td>GsMega</td>\n",
       "      <td>2013-11-10T16:05:38</td>\n",
       "      <td>watch?v=vtaRGgvGtWQ   Check this out .﻿</td>\n",
       "      <td>1</td>\n",
       "    </tr>\n",
       "  </tbody>\n",
       "</table>\n",
       "</div>"
      ],
      "text/plain": [
       "                                    COMMENT_ID            AUTHOR  \\\n",
       "0  LZQPQhLyRh80UYxNuaDWhIGQYNQ96IuCg-AYWqNPjpU  Julius NM          \n",
       "1  LZQPQhLyRh_C2cTtd9MvFRJedxydaVW-2sNg5Diuo4A  adam riyati        \n",
       "2  LZQPQhLyRh9MSZYnf8djyk0gEF9BHDPYrrK-qCczIY8  Evgeny Murashkin   \n",
       "3  z13jhp0bxqncu512g22wvzkasxmvvzjaz04          ElNino Melendez    \n",
       "4  z13fwbwp1oujthgqj04chlngpvzmtt3r3dw          GsMega             \n",
       "\n",
       "                  DATE  \\\n",
       "0  2013-11-07T06:20:48   \n",
       "1  2013-11-07T12:37:15   \n",
       "2  2013-11-08T17:34:21   \n",
       "3  2013-11-09T08:28:43   \n",
       "4  2013-11-10T16:05:38   \n",
       "\n",
       "                                                                                                                                                                  CONTENT  \\\n",
       "0  Huh, anyway check out this you[tube] channel: kobyoshi02                                                                                                                 \n",
       "1  Hey guys check out my new channel and our first vid THIS IS US THE  MONKEYS!!! I'm the monkey in the white shirt,please leave a like comment  and please subscribe!!!!   \n",
       "2  just for test I have to say murdev.com                                                                                                                                   \n",
       "3  me shaking my sexy ass on my channel enjoy ^_^ ﻿                                                                                                                         \n",
       "4  watch?v=vtaRGgvGtWQ   Check this out .﻿                                                                                                                                  \n",
       "\n",
       "   CLASS  \n",
       "0  1      \n",
       "1  1      \n",
       "2  1      \n",
       "3  1      \n",
       "4  1      "
      ]
     },
     "execution_count": 7,
     "metadata": {},
     "output_type": "execute_result"
    }
   ],
   "source": [
    "data3.head()"
   ]
  },
  {
   "cell_type": "code",
   "execution_count": 8,
   "metadata": {
    "ExecuteTime": {
     "end_time": "2020-04-03T09:21:45.563714Z",
     "start_time": "2020-04-03T09:21:45.433063Z"
    }
   },
   "outputs": [
    {
     "data": {
      "text/html": [
       "<div>\n",
       "<style scoped>\n",
       "    .dataframe tbody tr th:only-of-type {\n",
       "        vertical-align: middle;\n",
       "    }\n",
       "\n",
       "    .dataframe tbody tr th {\n",
       "        vertical-align: top;\n",
       "    }\n",
       "\n",
       "    .dataframe thead th {\n",
       "        text-align: right;\n",
       "    }\n",
       "</style>\n",
       "<table border=\"1\" class=\"dataframe\">\n",
       "  <thead>\n",
       "    <tr style=\"text-align: right;\">\n",
       "      <th></th>\n",
       "      <th>COMMENT_ID</th>\n",
       "      <th>AUTHOR</th>\n",
       "      <th>DATE</th>\n",
       "      <th>CONTENT</th>\n",
       "      <th>CLASS</th>\n",
       "    </tr>\n",
       "  </thead>\n",
       "  <tbody>\n",
       "    <tr>\n",
       "      <td>0</td>\n",
       "      <td>z12pgdhovmrktzm3i23es5d5junftft3f</td>\n",
       "      <td>lekanaVEVO1</td>\n",
       "      <td>2014-07-22T15:27:50</td>\n",
       "      <td>i love this so much. AND also I Generate Free Leads on Auto Pilot &amp;amp; You Can  Too! http://www.MyLeaderGate.com/moretraffic﻿</td>\n",
       "      <td>1</td>\n",
       "    </tr>\n",
       "    <tr>\n",
       "      <td>1</td>\n",
       "      <td>z13yx345uxepetggz04ci5rjcxeohzlrtf4</td>\n",
       "      <td>Pyunghee</td>\n",
       "      <td>2014-07-27T01:57:16</td>\n",
       "      <td>http://www.billboard.com/articles/columns/pop-shop/6174122/fan-army-face-off-round-3 Vote for SONES please....we're against vips....please help us.. &amp;gt;.&amp;lt;﻿</td>\n",
       "      <td>1</td>\n",
       "    </tr>\n",
       "    <tr>\n",
       "      <td>2</td>\n",
       "      <td>z12lsjvi3wa5x1vwh04cibeaqnzrevxajw00k</td>\n",
       "      <td>Erica Ross</td>\n",
       "      <td>2014-07-27T02:51:43</td>\n",
       "      <td>Hey guys! Please join me in my fight to help abused/mistreated animals! All  fund will go to helping pay for vet bills/and or helping them find homes! I  will place an extra emphasis on helping disabled animals, ones otherwise  would just be put to sleep by other animal organizations. Donate please. http://www.gofundme.com/Angels-n-Wingz﻿</td>\n",
       "      <td>1</td>\n",
       "    </tr>\n",
       "    <tr>\n",
       "      <td>3</td>\n",
       "      <td>z13jcjuovxbwfr0ge04cev2ipsjdfdurwck</td>\n",
       "      <td>Aviel Haimov</td>\n",
       "      <td>2014-08-01T12:27:48</td>\n",
       "      <td>http://psnboss.com/?ref=2tGgp3pV6L this is the song﻿</td>\n",
       "      <td>1</td>\n",
       "    </tr>\n",
       "    <tr>\n",
       "      <td>4</td>\n",
       "      <td>z13qybua2yfydzxzj04cgfpqdt2syfx53ms0k</td>\n",
       "      <td>John Bello</td>\n",
       "      <td>2014-08-01T21:04:03</td>\n",
       "      <td>Hey everyone. Watch this trailer!!!!!!!!  http://believemefilm.com?hlr=h2hQBUVB﻿</td>\n",
       "      <td>1</td>\n",
       "    </tr>\n",
       "  </tbody>\n",
       "</table>\n",
       "</div>"
      ],
      "text/plain": [
       "                              COMMENT_ID        AUTHOR                 DATE  \\\n",
       "0  z12pgdhovmrktzm3i23es5d5junftft3f      lekanaVEVO1   2014-07-22T15:27:50   \n",
       "1  z13yx345uxepetggz04ci5rjcxeohzlrtf4    Pyunghee      2014-07-27T01:57:16   \n",
       "2  z12lsjvi3wa5x1vwh04cibeaqnzrevxajw00k  Erica Ross    2014-07-27T02:51:43   \n",
       "3  z13jcjuovxbwfr0ge04cev2ipsjdfdurwck    Aviel Haimov  2014-08-01T12:27:48   \n",
       "4  z13qybua2yfydzxzj04cgfpqdt2syfx53ms0k  John Bello    2014-08-01T21:04:03   \n",
       "\n",
       "                                                                                                                                                                                                                                                                                                                                                CONTENT  \\\n",
       "0  i love this so much. AND also I Generate Free Leads on Auto Pilot &amp; You Can  Too! http://www.MyLeaderGate.com/moretraffic﻿                                                                                                                                                                                                                         \n",
       "1  http://www.billboard.com/articles/columns/pop-shop/6174122/fan-army-face-off-round-3 Vote for SONES please....we're against vips....please help us.. &gt;.&lt;﻿                                                                                                                                                                                        \n",
       "2  Hey guys! Please join me in my fight to help abused/mistreated animals! All  fund will go to helping pay for vet bills/and or helping them find homes! I  will place an extra emphasis on helping disabled animals, ones otherwise  would just be put to sleep by other animal organizations. Donate please. http://www.gofundme.com/Angels-n-Wingz﻿   \n",
       "3  http://psnboss.com/?ref=2tGgp3pV6L this is the song﻿                                                                                                                                                                                                                                                                                                   \n",
       "4  Hey everyone. Watch this trailer!!!!!!!!  http://believemefilm.com?hlr=h2hQBUVB﻿                                                                                                                                                                                                                                                                       \n",
       "\n",
       "   CLASS  \n",
       "0  1      \n",
       "1  1      \n",
       "2  1      \n",
       "3  1      \n",
       "4  1      "
      ]
     },
     "execution_count": 8,
     "metadata": {},
     "output_type": "execute_result"
    }
   ],
   "source": [
    "data4.head()"
   ]
  },
  {
   "cell_type": "code",
   "execution_count": 9,
   "metadata": {
    "ExecuteTime": {
     "end_time": "2020-04-03T09:21:45.702343Z",
     "start_time": "2020-04-03T09:21:45.572689Z"
    }
   },
   "outputs": [
    {
     "data": {
      "text/html": [
       "<div>\n",
       "<style scoped>\n",
       "    .dataframe tbody tr th:only-of-type {\n",
       "        vertical-align: middle;\n",
       "    }\n",
       "\n",
       "    .dataframe tbody tr th {\n",
       "        vertical-align: top;\n",
       "    }\n",
       "\n",
       "    .dataframe thead th {\n",
       "        text-align: right;\n",
       "    }\n",
       "</style>\n",
       "<table border=\"1\" class=\"dataframe\">\n",
       "  <thead>\n",
       "    <tr style=\"text-align: right;\">\n",
       "      <th></th>\n",
       "      <th>COMMENT_ID</th>\n",
       "      <th>AUTHOR</th>\n",
       "      <th>DATE</th>\n",
       "      <th>CONTENT</th>\n",
       "      <th>CLASS</th>\n",
       "    </tr>\n",
       "  </thead>\n",
       "  <tbody>\n",
       "    <tr>\n",
       "      <td>0</td>\n",
       "      <td>z13uwn2heqndtr5g304ccv5j5kqqzxjadmc0k</td>\n",
       "      <td>Corey Wilson</td>\n",
       "      <td>2015-05-28T21:39:52.376000</td>\n",
       "      <td>&lt;a href=\"http://www.youtube.com/watch?v=KQ6zr6kCPj8&amp;amp;t=2m19s\"&gt;2:19&lt;/a&gt; best part﻿</td>\n",
       "      <td>0</td>\n",
       "    </tr>\n",
       "    <tr>\n",
       "      <td>1</td>\n",
       "      <td>z124jvczaz3dxhnbc04cffk43oiugj25yzo0k</td>\n",
       "      <td>Epic Gaming</td>\n",
       "      <td>2015-05-28T20:07:20.610000</td>\n",
       "      <td>wierd but funny﻿</td>\n",
       "      <td>0</td>\n",
       "    </tr>\n",
       "    <tr>\n",
       "      <td>2</td>\n",
       "      <td>z13tczjy5xj0vjmu5231unho1ofey5zdk</td>\n",
       "      <td>LaS Music</td>\n",
       "      <td>2015-05-28T19:23:35.355000</td>\n",
       "      <td>Hey guys, I&amp;#39;m a human.&lt;br /&gt;&lt;br /&gt;&lt;br /&gt;But I don&amp;#39;t want to be a human, I want to be a sexy fucking giraffe.&lt;br /&gt;&lt;br /&gt;&lt;br /&gt;I already have the money for the surgery to elongate my spinal core, the surgery to change my skin pigment, and everything else! Like this post so others can root me on in my dream!!!!&lt;br /&gt;&lt;br /&gt;&lt;br /&gt;Im fucking with you, I make music, check out my first song! &lt;a rel=\"nofollow\" class=\"ot-hashtag\" href=\"https://plus.google.com/s/%23giraffebruuh\"&gt;#giraffebruuh&lt;/a&gt;﻿</td>\n",
       "      <td>1</td>\n",
       "    </tr>\n",
       "    <tr>\n",
       "      <td>3</td>\n",
       "      <td>z13tzr0hdpnayhqqc04cd3zqqqjkf3ngckk0k</td>\n",
       "      <td>Cheryl Fox</td>\n",
       "      <td>2015-05-28T17:49:35.294000</td>\n",
       "      <td>Party Rock....lol...who wants to shuffle!!!﻿</td>\n",
       "      <td>0</td>\n",
       "    </tr>\n",
       "    <tr>\n",
       "      <td>4</td>\n",
       "      <td>z12pcvix4zedcjvyb04ccr1r0mr2g5xwyng0k</td>\n",
       "      <td>PATRICK_TW</td>\n",
       "      <td>2015-05-28T16:28:26.818000</td>\n",
       "      <td>Party rock﻿</td>\n",
       "      <td>0</td>\n",
       "    </tr>\n",
       "  </tbody>\n",
       "</table>\n",
       "</div>"
      ],
      "text/plain": [
       "                              COMMENT_ID        AUTHOR  \\\n",
       "0  z13uwn2heqndtr5g304ccv5j5kqqzxjadmc0k  Corey Wilson   \n",
       "1  z124jvczaz3dxhnbc04cffk43oiugj25yzo0k  Epic Gaming    \n",
       "2  z13tczjy5xj0vjmu5231unho1ofey5zdk      LaS Music      \n",
       "3  z13tzr0hdpnayhqqc04cd3zqqqjkf3ngckk0k  Cheryl Fox     \n",
       "4  z12pcvix4zedcjvyb04ccr1r0mr2g5xwyng0k  PATRICK_TW     \n",
       "\n",
       "                         DATE  \\\n",
       "0  2015-05-28T21:39:52.376000   \n",
       "1  2015-05-28T20:07:20.610000   \n",
       "2  2015-05-28T19:23:35.355000   \n",
       "3  2015-05-28T17:49:35.294000   \n",
       "4  2015-05-28T16:28:26.818000   \n",
       "\n",
       "                                                                                                                                                                                                                                                                                                                                                                                                                                                                                                                CONTENT  \\\n",
       "0  <a href=\"http://www.youtube.com/watch?v=KQ6zr6kCPj8&amp;t=2m19s\">2:19</a> best part﻿                                                                                                                                                                                                                                                                                                                                                                                                                                   \n",
       "1  wierd but funny﻿                                                                                                                                                                                                                                                                                                                                                                                                                                                                                                       \n",
       "2  Hey guys, I&#39;m a human.<br /><br /><br />But I don&#39;t want to be a human, I want to be a sexy fucking giraffe.<br /><br /><br />I already have the money for the surgery to elongate my spinal core, the surgery to change my skin pigment, and everything else! Like this post so others can root me on in my dream!!!!<br /><br /><br />Im fucking with you, I make music, check out my first song! <a rel=\"nofollow\" class=\"ot-hashtag\" href=\"https://plus.google.com/s/%23giraffebruuh\">#giraffebruuh</a>﻿   \n",
       "3  Party Rock....lol...who wants to shuffle!!!﻿                                                                                                                                                                                                                                                                                                                                                                                                                                                                           \n",
       "4  Party rock﻿                                                                                                                                                                                                                                                                                                                                                                                                                                                                                                            \n",
       "\n",
       "   CLASS  \n",
       "0  0      \n",
       "1  0      \n",
       "2  1      \n",
       "3  0      \n",
       "4  0      "
      ]
     },
     "execution_count": 9,
     "metadata": {},
     "output_type": "execute_result"
    }
   ],
   "source": [
    "data5.head()"
   ]
  },
  {
   "cell_type": "code",
   "execution_count": 10,
   "metadata": {
    "ExecuteTime": {
     "end_time": "2020-04-03T09:21:45.839975Z",
     "start_time": "2020-04-03T09:21:45.705335Z"
    }
   },
   "outputs": [
    {
     "data": {
      "text/html": [
       "<div>\n",
       "<style scoped>\n",
       "    .dataframe tbody tr th:only-of-type {\n",
       "        vertical-align: middle;\n",
       "    }\n",
       "\n",
       "    .dataframe tbody tr th {\n",
       "        vertical-align: top;\n",
       "    }\n",
       "\n",
       "    .dataframe thead th {\n",
       "        text-align: right;\n",
       "    }\n",
       "</style>\n",
       "<table border=\"1\" class=\"dataframe\">\n",
       "  <thead>\n",
       "    <tr style=\"text-align: right;\">\n",
       "      <th></th>\n",
       "      <th>COMMENT_ID</th>\n",
       "      <th>AUTHOR</th>\n",
       "      <th>DATE</th>\n",
       "      <th>CONTENT</th>\n",
       "      <th>CLASS</th>\n",
       "    </tr>\n",
       "  </thead>\n",
       "  <tbody>\n",
       "    <tr>\n",
       "      <td>0</td>\n",
       "      <td>z12rwfnyyrbsefonb232i5ehdxzkjzjs2</td>\n",
       "      <td>Lisa Wellas</td>\n",
       "      <td>NaN</td>\n",
       "      <td>+447935454150 lovely girl talk to me xxx﻿</td>\n",
       "      <td>1</td>\n",
       "    </tr>\n",
       "    <tr>\n",
       "      <td>1</td>\n",
       "      <td>z130wpnwwnyuetxcn23xf5k5ynmkdpjrj04</td>\n",
       "      <td>jason graham</td>\n",
       "      <td>2015-05-29T02:26:10.652000</td>\n",
       "      <td>I always end up coming back to this song&lt;br /&gt;﻿</td>\n",
       "      <td>0</td>\n",
       "    </tr>\n",
       "    <tr>\n",
       "      <td>2</td>\n",
       "      <td>z13vsfqirtavjvu0t22ezrgzyorwxhpf3</td>\n",
       "      <td>Ajkal Khan</td>\n",
       "      <td>NaN</td>\n",
       "      <td>my sister just received over 6,500 new &lt;a rel=\"nofollow\" class=\"ot-hashtag\" href=\"https://plus.google.com/s/%23active\"&gt;#active&lt;/a&gt; youtube views Right now. The only thing she used was pimpmyviews. com﻿</td>\n",
       "      <td>1</td>\n",
       "    </tr>\n",
       "    <tr>\n",
       "      <td>3</td>\n",
       "      <td>z12wjzc4eprnvja4304cgbbizuved35wxcs</td>\n",
       "      <td>Dakota Taylor</td>\n",
       "      <td>2015-05-29T02:13:07.810000</td>\n",
       "      <td>Cool﻿</td>\n",
       "      <td>0</td>\n",
       "    </tr>\n",
       "    <tr>\n",
       "      <td>4</td>\n",
       "      <td>z13xjfr42z3uxdz2223gx5rrzs3dt5hna</td>\n",
       "      <td>Jihad Naser</td>\n",
       "      <td>NaN</td>\n",
       "      <td>Hello I&amp;#39;am from Palastine﻿</td>\n",
       "      <td>1</td>\n",
       "    </tr>\n",
       "  </tbody>\n",
       "</table>\n",
       "</div>"
      ],
      "text/plain": [
       "                            COMMENT_ID         AUTHOR  \\\n",
       "0  z12rwfnyyrbsefonb232i5ehdxzkjzjs2    Lisa Wellas     \n",
       "1  z130wpnwwnyuetxcn23xf5k5ynmkdpjrj04  jason graham    \n",
       "2  z13vsfqirtavjvu0t22ezrgzyorwxhpf3    Ajkal Khan      \n",
       "3  z12wjzc4eprnvja4304cgbbizuved35wxcs  Dakota Taylor   \n",
       "4  z13xjfr42z3uxdz2223gx5rrzs3dt5hna    Jihad Naser     \n",
       "\n",
       "                         DATE  \\\n",
       "0  NaN                          \n",
       "1  2015-05-29T02:26:10.652000   \n",
       "2  NaN                          \n",
       "3  2015-05-29T02:13:07.810000   \n",
       "4  NaN                          \n",
       "\n",
       "                                                                                                                                                                                                     CONTENT  \\\n",
       "0  +447935454150 lovely girl talk to me xxx﻿                                                                                                                                                                   \n",
       "1  I always end up coming back to this song<br />﻿                                                                                                                                                             \n",
       "2  my sister just received over 6,500 new <a rel=\"nofollow\" class=\"ot-hashtag\" href=\"https://plus.google.com/s/%23active\">#active</a> youtube views Right now. The only thing she used was pimpmyviews. com﻿   \n",
       "3  Cool﻿                                                                                                                                                                                                       \n",
       "4  Hello I&#39;am from Palastine﻿                                                                                                                                                                              \n",
       "\n",
       "   CLASS  \n",
       "0  1      \n",
       "1  0      \n",
       "2  1      \n",
       "3  0      \n",
       "4  1      "
      ]
     },
     "execution_count": 10,
     "metadata": {},
     "output_type": "execute_result"
    }
   ],
   "source": [
    "data6.head()"
   ]
  },
  {
   "cell_type": "code",
   "execution_count": 11,
   "metadata": {
    "ExecuteTime": {
     "end_time": "2020-04-03T09:21:46.008523Z",
     "start_time": "2020-04-03T09:21:45.842968Z"
    }
   },
   "outputs": [
    {
     "data": {
      "text/html": [
       "<div>\n",
       "<style scoped>\n",
       "    .dataframe tbody tr th:only-of-type {\n",
       "        vertical-align: middle;\n",
       "    }\n",
       "\n",
       "    .dataframe tbody tr th {\n",
       "        vertical-align: top;\n",
       "    }\n",
       "\n",
       "    .dataframe thead th {\n",
       "        text-align: right;\n",
       "    }\n",
       "</style>\n",
       "<table border=\"1\" class=\"dataframe\">\n",
       "  <thead>\n",
       "    <tr style=\"text-align: right;\">\n",
       "      <th></th>\n",
       "      <th>COMMENT_ID</th>\n",
       "      <th>AUTHOR</th>\n",
       "      <th>DATE</th>\n",
       "      <th>CONTENT</th>\n",
       "      <th>CLASS</th>\n",
       "    </tr>\n",
       "  </thead>\n",
       "  <tbody>\n",
       "    <tr>\n",
       "      <td>0</td>\n",
       "      <td>z13lgffb5w3ddx1ul22qy1wxspy5cpkz504</td>\n",
       "      <td>dharma pal</td>\n",
       "      <td>2015-05-29T02:30:18.971000</td>\n",
       "      <td>Nice song﻿</td>\n",
       "      <td>0</td>\n",
       "    </tr>\n",
       "    <tr>\n",
       "      <td>1</td>\n",
       "      <td>z123dbgb0mqjfxbtz22ucjc5jvzcv3ykj</td>\n",
       "      <td>Tiza Arellano</td>\n",
       "      <td>2015-05-29T00:14:48.748000</td>\n",
       "      <td>I love song ﻿</td>\n",
       "      <td>0</td>\n",
       "    </tr>\n",
       "    <tr>\n",
       "      <td>2</td>\n",
       "      <td>z12quxxp2vutflkxv04cihggzt2azl34pms0k</td>\n",
       "      <td>Prìñçeśś Âliś Łøvê Dømíñø Mâđiś™ ﻿</td>\n",
       "      <td>2015-05-28T21:00:08.607000</td>\n",
       "      <td>I love song ﻿</td>\n",
       "      <td>0</td>\n",
       "    </tr>\n",
       "    <tr>\n",
       "      <td>3</td>\n",
       "      <td>z12icv3ysqvlwth2c23eddlykyqut5z1h</td>\n",
       "      <td>Eric Gonzalez</td>\n",
       "      <td>2015-05-28T20:47:12.193000</td>\n",
       "      <td>860,000,000 lets make it first female to reach one billion!! Share it and replay it! ﻿</td>\n",
       "      <td>0</td>\n",
       "    </tr>\n",
       "    <tr>\n",
       "      <td>4</td>\n",
       "      <td>z133stly3kete3tly22petvwdpmghrlli</td>\n",
       "      <td>Analena López</td>\n",
       "      <td>2015-05-28T17:08:29.827000</td>\n",
       "      <td>shakira is best for worldcup﻿</td>\n",
       "      <td>0</td>\n",
       "    </tr>\n",
       "  </tbody>\n",
       "</table>\n",
       "</div>"
      ],
      "text/plain": [
       "                              COMMENT_ID                              AUTHOR  \\\n",
       "0  z13lgffb5w3ddx1ul22qy1wxspy5cpkz504    dharma pal                           \n",
       "1  z123dbgb0mqjfxbtz22ucjc5jvzcv3ykj      Tiza Arellano                        \n",
       "2  z12quxxp2vutflkxv04cihggzt2azl34pms0k  Prìñçeśś Âliś Łøvê Dømíñø Mâđiś™ ﻿   \n",
       "3  z12icv3ysqvlwth2c23eddlykyqut5z1h      Eric Gonzalez                        \n",
       "4  z133stly3kete3tly22petvwdpmghrlli      Analena López                        \n",
       "\n",
       "                         DATE  \\\n",
       "0  2015-05-29T02:30:18.971000   \n",
       "1  2015-05-29T00:14:48.748000   \n",
       "2  2015-05-28T21:00:08.607000   \n",
       "3  2015-05-28T20:47:12.193000   \n",
       "4  2015-05-28T17:08:29.827000   \n",
       "\n",
       "                                                                                  CONTENT  \\\n",
       "0  Nice song﻿                                                                               \n",
       "1  I love song ﻿                                                                            \n",
       "2  I love song ﻿                                                                            \n",
       "3  860,000,000 lets make it first female to reach one billion!! Share it and replay it! ﻿   \n",
       "4  shakira is best for worldcup﻿                                                            \n",
       "\n",
       "   CLASS  \n",
       "0  0      \n",
       "1  0      \n",
       "2  0      \n",
       "3  0      \n",
       "4  0      "
      ]
     },
     "execution_count": 11,
     "metadata": {},
     "output_type": "execute_result"
    }
   ],
   "source": [
    "data7.head()"
   ]
  },
  {
   "cell_type": "code",
   "execution_count": 12,
   "metadata": {
    "ExecuteTime": {
     "end_time": "2020-04-03T09:21:46.518267Z",
     "start_time": "2020-04-03T09:21:46.014508Z"
    }
   },
   "outputs": [
    {
     "data": {
      "text/html": [
       "<div>\n",
       "<style scoped>\n",
       "    .dataframe tbody tr th:only-of-type {\n",
       "        vertical-align: middle;\n",
       "    }\n",
       "\n",
       "    .dataframe tbody tr th {\n",
       "        vertical-align: top;\n",
       "    }\n",
       "\n",
       "    .dataframe thead th {\n",
       "        text-align: right;\n",
       "    }\n",
       "</style>\n",
       "<table border=\"1\" class=\"dataframe\">\n",
       "  <thead>\n",
       "    <tr style=\"text-align: right;\">\n",
       "      <th></th>\n",
       "      <th>email</th>\n",
       "      <th>label</th>\n",
       "    </tr>\n",
       "  </thead>\n",
       "  <tbody>\n",
       "    <tr>\n",
       "      <td>0</td>\n",
       "      <td>date wed NUMBER aug NUMBER NUMBER NUMBER NUMBER NUMBER from chris garrigues cwg dated NUMBER NUMBERfaNUMBERd deepeddy com message id NUMBER NUMBER tmda deepeddy vircio com i can t reproduce this error for me it is very repeatable like every time without fail this is the debug log of the pick happening NUMBER NUMBER NUMBER pick_it exec pick inbox list lbrace lbrace subject ftp rbrace rbrace NUMBER NUMBER sequence mercury NUMBER NUMBER NUMBER exec pick inbox list lbrace lbrace subject ftp rbrace rbrace NUMBER NUMBER sequence mercury NUMBER NUMBER NUMBER ftoc_pickmsgs NUMBER hit NUMBER NUMBER NUMBER marking NUMBER hits NUMBER NUMBER NUMBER tkerror syntax error in expression int note if i run the pick command by hand delta pick inbox list lbrace lbrace subject ftp rbrace rbrace NUMBER NUMBER sequence mercury NUMBER hit that s where the NUMBER hit comes from obviously the version of nmh i m using is delta pick version pick nmh NUMBER NUMBER NUMBER compiled on URL at sun mar NUMBER NUMBER NUMBER NUMBER ict NUMBER and the relevant part of my mh_profile delta mhparam pick seq sel list since the pick command works the sequence actually both of them the one that s explicit on the command line from the search popup and the one that comes from mh_profile do get created kre ps this is still using the version of the code form a day ago i haven t been able to reach the cvs repository today local routing issue i think _______________________________________________ exmh workers mailing list exmh workers URL URL</td>\n",
       "      <td>0</td>\n",
       "    </tr>\n",
       "    <tr>\n",
       "      <td>1</td>\n",
       "      <td>martin a posted tassos papadopoulos the greek sculptor behind the plan judged that the limestone of mount kerdylio NUMBER miles east of salonika and not far from the mount athos monastic community was ideal for the patriotic sculpture as well as alexander s granite features NUMBER ft high and NUMBER ft wide a museum a restored amphitheatre and car park for admiring crowds are planned so is this mountain limestone or granite if it s limestone it ll weather pretty fast yahoo groups sponsor NUMBER dvds free s p join now URL to unsubscribe from this group send an email to forteana unsubscribe URL your use of yahoo groups is subject to URL</td>\n",
       "      <td>0</td>\n",
       "    </tr>\n",
       "    <tr>\n",
       "      <td>2</td>\n",
       "      <td>man threatens explosion in moscow thursday august NUMBER NUMBER NUMBER NUMBER pm moscow ap security officers on thursday seized an unidentified man who said he was armed with explosives and threatened to blow up his truck in front of russia s federal security services headquarters in moscow ntv television reported the officers seized an automatic rifle the man was carrying then the man got out of the truck and was taken into custody ntv said no other details were immediately available the man had demanded talks with high government officials the interfax and itar tass news agencies said ekho moskvy radio reported that he wanted to talk with russian president vladimir putin police and security forces rushed to the security service building within blocks of the kremlin red square and the bolshoi ballet and surrounded the man who claimed to have one and a half tons of explosives the news agencies said negotiations continued for about one and a half hours outside the building itar tass and interfax reported citing witnesses the man later drove away from the building under police escort and drove to a street near moscow s olympic penta hotel where authorities held further negotiations with him the moscow police press service said the move appeared to be an attempt by security services to get him to a more secure location yahoo groups sponsor NUMBER dvds free s p join now URL to unsubscribe from this group send an email to forteana unsubscribe URL your use of yahoo groups is subject to URL</td>\n",
       "      <td>0</td>\n",
       "    </tr>\n",
       "    <tr>\n",
       "      <td>3</td>\n",
       "      <td>klez the virus that won t die already the most prolific virus ever klez continues to wreak havoc andrew brandt from the september NUMBER issue of pc world magazine posted thursday august NUMBER NUMBER the klez worm is approaching its seventh month of wriggling across the web making it one of the most persistent viruses ever and experts warn that it may be a harbinger of new viruses that use a combination of pernicious approaches to go from pc to pc antivirus software makers symantec and mcafee both report more than NUMBER new infections daily with no sign of letup at press time the british security firm messagelabs estimates that NUMBER in every NUMBER e mail messages holds a variation of the klez virus and says that klez has already surpassed last summer s sircam as the most prolific virus ever and some newer klez variants aren t merely nuisances they can carry other viruses in them that corrupt your data URL _______________________________________________ irregulars mailing list irregulars URL URL</td>\n",
       "      <td>0</td>\n",
       "    </tr>\n",
       "    <tr>\n",
       "      <td>4</td>\n",
       "      <td>in adding cream to spaghetti carbonara which has the same effect on pasta as making a pizza a deep pie i just had to jump in here as carbonara is one of my favourites to make and ask what the hell are you supposed to use instead of cream i ve never seen a recipe that hasn t used this personally i use low fat creme fraiche because it works quite nicely but the only time i ve seen an supposedly authentic recipe for carbonara it was identical to mine cream eggs and lots of fresh parmesan except for the creme fraiche stew stewart smith scottish microelectronics centre university of edinburgh URL yahoo groups sponsor NUMBER dvds free s p join now URL to unsubscribe from this group send an email to forteana unsubscribe URL your use of yahoo groups is subject to URL</td>\n",
       "      <td>0</td>\n",
       "    </tr>\n",
       "  </tbody>\n",
       "</table>\n",
       "</div>"
      ],
      "text/plain": [
       "                                                                                                                                                                                                                                                                                                                                                                                                                                                                                                                                                                                                                                                                                                                                                                                                                                                                                                                                                                                                                                                                                                                                                                                                                                                                                                                                                                                                                                                                                                                                                                                email  \\\n",
       "0   date wed NUMBER aug NUMBER NUMBER NUMBER NUMBER NUMBER from chris garrigues cwg dated NUMBER NUMBERfaNUMBERd deepeddy com message id NUMBER NUMBER tmda deepeddy vircio com i can t reproduce this error for me it is very repeatable like every time without fail this is the debug log of the pick happening NUMBER NUMBER NUMBER pick_it exec pick inbox list lbrace lbrace subject ftp rbrace rbrace NUMBER NUMBER sequence mercury NUMBER NUMBER NUMBER exec pick inbox list lbrace lbrace subject ftp rbrace rbrace NUMBER NUMBER sequence mercury NUMBER NUMBER NUMBER ftoc_pickmsgs NUMBER hit NUMBER NUMBER NUMBER marking NUMBER hits NUMBER NUMBER NUMBER tkerror syntax error in expression int note if i run the pick command by hand delta pick inbox list lbrace lbrace subject ftp rbrace rbrace NUMBER NUMBER sequence mercury NUMBER hit that s where the NUMBER hit comes from obviously the version of nmh i m using is delta pick version pick nmh NUMBER NUMBER NUMBER compiled on URL at sun mar NUMBER NUMBER NUMBER NUMBER ict NUMBER and the relevant part of my mh_profile delta mhparam pick seq sel list since the pick command works the sequence actually both of them the one that s explicit on the command line from the search popup and the one that comes from mh_profile do get created kre ps this is still using the version of the code form a day ago i haven t been able to reach the cvs repository today local routing issue i think _______________________________________________ exmh workers mailing list exmh workers URL URL    \n",
       "1  martin a posted tassos papadopoulos the greek sculptor behind the plan judged that the limestone of mount kerdylio NUMBER miles east of salonika and not far from the mount athos monastic community was ideal for the patriotic sculpture as well as alexander s granite features NUMBER ft high and NUMBER ft wide a museum a restored amphitheatre and car park for admiring crowds are planned so is this mountain limestone or granite if it s limestone it ll weather pretty fast yahoo groups sponsor NUMBER dvds free s p join now URL to unsubscribe from this group send an email to forteana unsubscribe URL your use of yahoo groups is subject to URL                                                                                                                                                                                                                                                                                                                                                                                                                                                                                                                                                                                                                                                                                                                                                                                                                                                                                                                   \n",
       "2  man threatens explosion in moscow thursday august NUMBER NUMBER NUMBER NUMBER pm moscow ap security officers on thursday seized an unidentified man who said he was armed with explosives and threatened to blow up his truck in front of russia s federal security services headquarters in moscow ntv television reported the officers seized an automatic rifle the man was carrying then the man got out of the truck and was taken into custody ntv said no other details were immediately available the man had demanded talks with high government officials the interfax and itar tass news agencies said ekho moskvy radio reported that he wanted to talk with russian president vladimir putin police and security forces rushed to the security service building within blocks of the kremlin red square and the bolshoi ballet and surrounded the man who claimed to have one and a half tons of explosives the news agencies said negotiations continued for about one and a half hours outside the building itar tass and interfax reported citing witnesses the man later drove away from the building under police escort and drove to a street near moscow s olympic penta hotel where authorities held further negotiations with him the moscow police press service said the move appeared to be an attempt by security services to get him to a more secure location yahoo groups sponsor NUMBER dvds free s p join now URL to unsubscribe from this group send an email to forteana unsubscribe URL your use of yahoo groups is subject to URL                 \n",
       "3  klez the virus that won t die already the most prolific virus ever klez continues to wreak havoc andrew brandt from the september NUMBER issue of pc world magazine posted thursday august NUMBER NUMBER the klez worm is approaching its seventh month of wriggling across the web making it one of the most persistent viruses ever and experts warn that it may be a harbinger of new viruses that use a combination of pernicious approaches to go from pc to pc antivirus software makers symantec and mcafee both report more than NUMBER new infections daily with no sign of letup at press time the british security firm messagelabs estimates that NUMBER in every NUMBER e mail messages holds a variation of the klez virus and says that klez has already surpassed last summer s sircam as the most prolific virus ever and some newer klez variants aren t merely nuisances they can carry other viruses in them that corrupt your data URL _______________________________________________ irregulars mailing list irregulars URL URL                                                                                                                                                                                                                                                                                                                                                                                                                                                                                                                               \n",
       "4   in adding cream to spaghetti carbonara which has the same effect on pasta as making a pizza a deep pie i just had to jump in here as carbonara is one of my favourites to make and ask what the hell are you supposed to use instead of cream i ve never seen a recipe that hasn t used this personally i use low fat creme fraiche because it works quite nicely but the only time i ve seen an supposedly authentic recipe for carbonara it was identical to mine cream eggs and lots of fresh parmesan except for the creme fraiche stew stewart smith scottish microelectronics centre university of edinburgh URL yahoo groups sponsor NUMBER dvds free s p join now URL to unsubscribe from this group send an email to forteana unsubscribe URL your use of yahoo groups is subject to URL                                                                                                                                                                                                                                                                                                                                                                                                                                                                                                                                                                                                                                                                                                                                                                                   \n",
       "\n",
       "   label  \n",
       "0  0      \n",
       "1  0      \n",
       "2  0      \n",
       "3  0      \n",
       "4  0      "
      ]
     },
     "execution_count": 12,
     "metadata": {},
     "output_type": "execute_result"
    }
   ],
   "source": [
    "data8.head()"
   ]
  },
  {
   "cell_type": "markdown",
   "metadata": {},
   "source": [
    "## Integration"
   ]
  },
  {
   "cell_type": "code",
   "execution_count": 13,
   "metadata": {
    "ExecuteTime": {
     "end_time": "2020-04-03T09:21:46.916048Z",
     "start_time": "2020-04-03T09:21:46.521260Z"
    }
   },
   "outputs": [],
   "source": [
    "data = pd.DataFrame(columns=['Text', 'Spam'])"
   ]
  },
  {
   "cell_type": "code",
   "execution_count": 14,
   "metadata": {
    "ExecuteTime": {
     "end_time": "2020-04-03T09:22:31.577915Z",
     "start_time": "2020-04-03T09:21:46.918043Z"
    }
   },
   "outputs": [
    {
     "data": {
      "application/vnd.jupyter.widget-view+json": {
       "model_id": "b199f76b4ea14bdaacc65eabfeea7303",
       "version_major": 2,
       "version_minor": 0
      },
      "text/plain": [
       "HBox(children=(IntProgress(value=0, max=5728), HTML(value='')))"
      ]
     },
     "metadata": {},
     "output_type": "display_data"
    },
    {
     "name": "stdout",
     "output_type": "stream",
     "text": [
      "\n"
     ]
    },
    {
     "data": {
      "application/vnd.jupyter.widget-view+json": {
       "model_id": "55d4857185a949a6a3d3323e7bc9b4eb",
       "version_major": 2,
       "version_minor": 0
      },
      "text/plain": [
       "HBox(children=(IntProgress(value=0, max=5572), HTML(value='')))"
      ]
     },
     "metadata": {},
     "output_type": "display_data"
    },
    {
     "name": "stdout",
     "output_type": "stream",
     "text": [
      "\n"
     ]
    },
    {
     "data": {
      "application/vnd.jupyter.widget-view+json": {
       "model_id": "75ad28032a9c465fbd01cb03d30c1ba7",
       "version_major": 2,
       "version_minor": 0
      },
      "text/plain": [
       "HBox(children=(IntProgress(value=0, max=350), HTML(value='')))"
      ]
     },
     "metadata": {},
     "output_type": "display_data"
    },
    {
     "name": "stdout",
     "output_type": "stream",
     "text": [
      "\n"
     ]
    },
    {
     "data": {
      "application/vnd.jupyter.widget-view+json": {
       "model_id": "6eda9cbd498941f9ae52fd8bbbc9a2cd",
       "version_major": 2,
       "version_minor": 0
      },
      "text/plain": [
       "HBox(children=(IntProgress(value=0, max=350), HTML(value='')))"
      ]
     },
     "metadata": {},
     "output_type": "display_data"
    },
    {
     "name": "stdout",
     "output_type": "stream",
     "text": [
      "\n"
     ]
    },
    {
     "data": {
      "application/vnd.jupyter.widget-view+json": {
       "model_id": "5339bea1d95545fcb795f8164c2216eb",
       "version_major": 2,
       "version_minor": 0
      },
      "text/plain": [
       "HBox(children=(IntProgress(value=0, max=438), HTML(value='')))"
      ]
     },
     "metadata": {},
     "output_type": "display_data"
    },
    {
     "name": "stdout",
     "output_type": "stream",
     "text": [
      "\n"
     ]
    },
    {
     "data": {
      "application/vnd.jupyter.widget-view+json": {
       "model_id": "e2c2a4275ac54f1d918891ae858325e0",
       "version_major": 2,
       "version_minor": 0
      },
      "text/plain": [
       "HBox(children=(IntProgress(value=0, max=448), HTML(value='')))"
      ]
     },
     "metadata": {},
     "output_type": "display_data"
    },
    {
     "name": "stdout",
     "output_type": "stream",
     "text": [
      "\n"
     ]
    },
    {
     "data": {
      "application/vnd.jupyter.widget-view+json": {
       "model_id": "2836932fd65c42ed886d3619c0f6e02d",
       "version_major": 2,
       "version_minor": 0
      },
      "text/plain": [
       "HBox(children=(IntProgress(value=0, max=370), HTML(value='')))"
      ]
     },
     "metadata": {},
     "output_type": "display_data"
    },
    {
     "name": "stdout",
     "output_type": "stream",
     "text": [
      "\n"
     ]
    },
    {
     "data": {
      "application/vnd.jupyter.widget-view+json": {
       "model_id": "859c98924e9f469c8ff864668bf6c924",
       "version_major": 2,
       "version_minor": 0
      },
      "text/plain": [
       "HBox(children=(IntProgress(value=0, max=3000), HTML(value='')))"
      ]
     },
     "metadata": {},
     "output_type": "display_data"
    },
    {
     "name": "stdout",
     "output_type": "stream",
     "text": [
      "\n",
      "Done\n"
     ]
    }
   ],
   "source": [
    "for i in trange(len(data1)):\n",
    "    data = pd.concat([data, pd.DataFrame({\n",
    "        'Text': [data1['text'][i].replace('Subject: ', '')],\n",
    "        'Spam': [data1['spam'][i]]\n",
    "    })])\n",
    "\n",
    "for i in trange(len(data2)):\n",
    "    data = pd.concat([data, pd.DataFrame({\n",
    "        'Text': [data2['message'][i]],\n",
    "        'Spam': [int(data2['label'][i] == 'spam')]\n",
    "    })])\n",
    "\n",
    "for i in trange(len(data3)):\n",
    "    data = pd.concat([data, pd.DataFrame({\n",
    "        'Text': [data3['CONTENT'][i]],\n",
    "        'Spam': [data3['CLASS'][i]]\n",
    "    })])\n",
    "\n",
    "for i in trange(len(data4)):\n",
    "    data = pd.concat([data, pd.DataFrame({\n",
    "        'Text': [data4['CONTENT'][i]],\n",
    "        'Spam': [data4['CLASS'][i]]\n",
    "    })])\n",
    "    \n",
    "for i in trange(len(data5)):\n",
    "    data = pd.concat([data, pd.DataFrame({\n",
    "        'Text': [data5['CONTENT'][i]],\n",
    "        'Spam': [data5['CLASS'][i]]\n",
    "    })])\n",
    "\n",
    "for i in trange(len(data6)):\n",
    "    data = pd.concat([data, pd.DataFrame({\n",
    "        'Text': [data6['CONTENT'][i]],\n",
    "        'Spam': [data6['CLASS'][i]]\n",
    "    })])  \n",
    "\n",
    "for i in trange(len(data7)):\n",
    "    data = pd.concat([data, pd.DataFrame({\n",
    "        'Text': [data7['CONTENT'][i]],\n",
    "        'Spam': [data7['CLASS'][i]]\n",
    "    })])\n",
    "    \n",
    "for i in trange(len(data8)):\n",
    "    data = pd.concat([data, pd.DataFrame({\n",
    "        'Text': [data8['email'][i]],\n",
    "        'Spam': [data8['label'][i]]\n",
    "    })])    \n",
    "    \n",
    "data.drop_duplicates(inplace=True)\n",
    "    \n",
    "print('Done')"
   ]
  },
  {
   "cell_type": "code",
   "execution_count": 15,
   "metadata": {
    "ExecuteTime": {
     "end_time": "2020-04-03T09:22:31.587892Z",
     "start_time": "2020-04-03T09:22:31.580908Z"
    }
   },
   "outputs": [
    {
     "name": "stdout",
     "output_type": "stream",
     "text": [
      "15497\n"
     ]
    }
   ],
   "source": [
    "print(len(data))"
   ]
  },
  {
   "cell_type": "code",
   "execution_count": 16,
   "metadata": {
    "ExecuteTime": {
     "end_time": "2020-04-03T09:22:31.906493Z",
     "start_time": "2020-04-03T09:22:31.590881Z"
    }
   },
   "outputs": [
    {
     "name": "stdout",
     "output_type": "stream",
     "text": [
      "0    4360\n",
      "1    1368\n",
      "Name: spam, dtype: int64\n",
      "ham     4825\n",
      "spam    747 \n",
      "Name: label, dtype: int64\n",
      "1    175\n",
      "0    175\n",
      "Name: CLASS, dtype: int64\n",
      "1    175\n",
      "0    175\n",
      "Name: CLASS, dtype: int64\n",
      "1    236\n",
      "0    202\n",
      "Name: CLASS, dtype: int64\n",
      "1    245\n",
      "0    203\n",
      "Name: CLASS, dtype: int64\n",
      "0    196\n",
      "1    174\n",
      "Name: CLASS, dtype: int64\n",
      "0    2500\n",
      "1    500 \n",
      "Name: label, dtype: int64\n",
      "0    12207\n",
      "1    3290 \n",
      "Name: Spam, dtype: int64\n",
      "\n",
      "\n",
      "\n",
      "0    12207\n",
      "1    3290 \n",
      "Name: Spam, dtype: int64\n"
     ]
    },
    {
     "data": {
      "text/plain": [
       "<matplotlib.axes._subplots.AxesSubplot at 0x2039e6ff6a0>"
      ]
     },
     "execution_count": 16,
     "metadata": {},
     "output_type": "execute_result"
    },
    {
     "data": {
      "image/png": "[encoded data removed]",
      "text/plain": [
       "<Figure size 432x288 with 1 Axes>"
      ]
     },
     "metadata": {},
     "output_type": "display_data"
    }
   ],
   "source": [
    "print(data1['spam'].value_counts())\n",
    "print(data2['label'].value_counts())\n",
    "print(data3['CLASS'].value_counts())\n",
    "print(data4['CLASS'].value_counts())\n",
    "print(data5['CLASS'].value_counts())\n",
    "print(data6['CLASS'].value_counts())\n",
    "print(data7['CLASS'].value_counts())\n",
    "print(data8['label'].value_counts())\n",
    "print(data['Spam'].value_counts())\n",
    "print('\\n\\n')\n",
    "print(data['Spam'].value_counts())\n",
    "data['Spam'].value_counts().plot.pie()"
   ]
  },
  {
   "cell_type": "code",
   "execution_count": 17,
   "metadata": {
    "ExecuteTime": {
     "end_time": "2020-04-03T09:22:31.925442Z",
     "start_time": "2020-04-03T09:22:31.909485Z"
    }
   },
   "outputs": [],
   "source": [
    "data = pd.concat([data, data[data['Spam'] == 1], data[data['Spam'] == 1], data[data['Spam'] == 1]])"
   ]
  },
  {
   "cell_type": "code",
   "execution_count": 18,
   "metadata": {
    "ExecuteTime": {
     "end_time": "2020-04-03T09:22:32.184589Z",
     "start_time": "2020-04-03T09:22:31.928434Z"
    }
   },
   "outputs": [
    {
     "name": "stdout",
     "output_type": "stream",
     "text": [
      "1    13160\n",
      "0    12207\n",
      "Name: Spam, dtype: int64\n"
     ]
    },
    {
     "data": {
      "text/plain": [
       "<matplotlib.axes._subplots.AxesSubplot at 0x2039e731e10>"
      ]
     },
     "execution_count": 18,
     "metadata": {},
     "output_type": "execute_result"
    },
    {
     "data": {
      "image/png": "[encoded data removed]",
      "text/plain": [
       "<Figure size 432x288 with 1 Axes>"
      ]
     },
     "metadata": {},
     "output_type": "display_data"
    }
   ],
   "source": [
    "print(data['Spam'].value_counts())\n",
    "data['Spam'].value_counts().plot.pie()"
   ]
  },
  {
   "cell_type": "code",
   "execution_count": null,
   "metadata": {
    "ExecuteTime": {
     "end_time": "2020-04-03T09:26:21.287232Z",
     "start_time": "2020-04-03T09:22:24.376Z"
    }
   },
   "outputs": [],
   "source": [
    "data.head()"
   ]
  },
  {
   "cell_type": "markdown",
   "metadata": {},
   "source": [
    "# Text Cleaning"
   ]
  },
  {
   "cell_type": "code",
   "execution_count": 19,
   "metadata": {
    "ExecuteTime": {
     "end_time": "2020-04-03T09:22:44.508368Z",
     "start_time": "2020-04-03T09:22:32.188578Z"
    }
   },
   "outputs": [],
   "source": [
    "import nltk, re\n",
    "from nltk.stem.porter import PorterStemmer\n",
    "from nltk.stem import WordNetLemmatizer\n",
    "import langdetect\n",
    "\n",
    "def spell_correct(text):\n",
    "    text = re.sub(r\"can\\'t\", \"can not\", text)\n",
    "    text = re.sub(r\"what's\", \"what is \", text) \n",
    "    text = re.sub(r\"\\'s\", \" \", text)\n",
    "    text = re.sub(r\"\\'ve\", \" have \", text)\n",
    "    text = re.sub(r\"n't\", \" not \", text)\n",
    "    text = re.sub(r\"i'm\", \"i am \", text)\n",
    "    text = re.sub(r\"\\'re\", \" are \", text)\n",
    "    text = re.sub(r\"\\'d\", \" would \", text)\n",
    "    text = re.sub(r\"\\'ll\", \" will \", text)\n",
    "    text = re.sub(r\"\\0s\", \"0\", text)    \n",
    "    return text\n",
    "\n",
    "def remove_url(text):\n",
    "    URL_REGEX = re.compile(r'''((http[s]?://)[^ <>'\"{}|\\\\^`[\\]]*)''')\n",
    "    return URL_REGEX.sub(r' ', text)\n",
    "\n",
    "def remove_handles(text):\n",
    "    HANDLES_REGEX = re.compile(r'@\\S+')\n",
    "    return HANDLES_REGEX.sub(r' ', text)\n",
    "\n",
    "def remove_incomplete_last_word(text):\n",
    "    INCOMPLETE_LAST_WORD_REGEX = re.compile(r'\\S+…')\n",
    "    return INCOMPLETE_LAST_WORD_REGEX.sub(r' ', text )\n",
    "\n",
    "remove_punc = lambda x : re.sub(r\"\\W\", ' ', x)\n",
    "\n",
    "remove_num = lambda x : re.sub(r\"\\d\", ' ', x)\n",
    "\n",
    "remove_extra_spaces = lambda x : re.sub(r\"\\s+\", ' ', x)\n",
    "\n",
    "remove_shortwords = lambda x: ' '.join(word for word in x.split() if len(word) > 2)\n",
    "\n",
    "lower_case = lambda x : x.lower()\n",
    "\n",
    "with open('stopwords.txt') as f:\n",
    "    sw = map(lambda x : x.strip(), f.readlines())\n",
    "stop_words = set(nltk.corpus.stopwords.words('english'))|set(sw)\n",
    "remove_stopwords = lambda x: ' '.join(word for word in x.split() if word not in stop_words)\n",
    "\n",
    "ps = PorterStemmer()\n",
    "ps_stem = lambda x: ' '.join(ps.stem(word) for word in x.split())\n",
    "\n",
    "wnl = WordNetLemmatizer()\n",
    "wnl_lemmatize = lambda x: ' '.join(wnl.lemmatize(word) for word in x.split())\n",
    "\n",
    "def tag_pos(x):\n",
    "    tag_list =  nltk.pos_tag(nltk.word_tokenize(x))\n",
    "    pos = \"\"\n",
    "    for t in tag_list:\n",
    "        pos += t[0] +'(' + t[1] +')' + ' '\n",
    "    return pos\n",
    "\n",
    "def cleanText(x, rsw, stm, lem, tgps):\n",
    "    x = str(x)\n",
    "    x = remove_url(x)\n",
    "    x = lower_case(x)\n",
    "    x = spell_correct(x)\n",
    "    x = remove_punc(x)\n",
    "    x = remove_num(x)\n",
    "    x = remove_extra_spaces(x)\n",
    "    x = remove_shortwords(x)\n",
    "    \n",
    "    if rsw:\n",
    "        x = remove_stopwords(x)\n",
    "    if stm:\n",
    "        x = ps_stem(x)\n",
    "    if lem:\n",
    "        x = wnl_lemmatize(x)\n",
    "    if tgps:\n",
    "        x = tag_pos(x)\n",
    "    return x"
   ]
  },
  {
   "cell_type": "code",
   "execution_count": 20,
   "metadata": {
    "ExecuteTime": {
     "end_time": "2020-04-03T09:22:52.061533Z",
     "start_time": "2020-04-03T09:22:44.510272Z"
    }
   },
   "outputs": [
    {
     "data": {
      "application/vnd.jupyter.widget-view+json": {
       "model_id": "4bf47f688c5a4ff281253b28fe15a659",
       "version_major": 2,
       "version_minor": 0
      },
      "text/plain": [
       "HBox(children=(IntProgress(value=0, max=25367), HTML(value='')))"
      ]
     },
     "metadata": {},
     "output_type": "display_data"
    },
    {
     "name": "stdout",
     "output_type": "stream",
     "text": [
      "\n"
     ]
    }
   ],
   "source": [
    "data['Text'] = data['Text'].progress_apply(lambda x : cleanText(x, True, False, False, False))"
   ]
  },
  {
   "cell_type": "code",
   "execution_count": 21,
   "metadata": {
    "ExecuteTime": {
     "end_time": "2020-04-03T09:22:52.650385Z",
     "start_time": "2020-04-03T09:22:52.064525Z"
    }
   },
   "outputs": [
    {
     "data": {
      "text/plain": [
       "number         27920\n",
       "free           5864 \n",
       "email          5140 \n",
       "please         5080 \n",
       "money          4976 \n",
       "business       4832 \n",
       "com            4768 \n",
       "get            4404 \n",
       "information    4292 \n",
       "url            4216 \n",
       "mail           4084 \n",
       "company        4004 \n",
       "one            3956 \n",
       "new            3708 \n",
       "click          3616 \n",
       "make           3568 \n",
       "time           3508 \n",
       "people         3016 \n",
       "list           2916 \n",
       "http           2724 \n",
       "dtype: int64"
      ]
     },
     "execution_count": 21,
     "metadata": {},
     "output_type": "execute_result"
    }
   ],
   "source": [
    "pd.Series(' '.join(data[data['Spam'] == 1]['Text']).split()).value_counts()[:20]"
   ]
  },
  {
   "cell_type": "code",
   "execution_count": 22,
   "metadata": {
    "ExecuteTime": {
     "end_time": "2020-04-03T09:25:42.265987Z",
     "start_time": "2020-04-03T09:22:52.655372Z"
    }
   },
   "outputs": [
    {
     "data": {
      "image/png": "[encoded data removed]",
      "text/plain": [
       "<Figure size 576x576 with 1 Axes>"
      ]
     },
     "metadata": {
      "needs_background": "light"
     },
     "output_type": "display_data"
    }
   ],
   "source": [
    "from wordcloud import WordCloud, STOPWORDS\n",
    "from PIL import Image\n",
    "\n",
    "def df2corpus(df):\n",
    "    corpus = ''\n",
    "    for x in df:\n",
    "        corpus += str(x) + '\\n'\n",
    "    return corpus\n",
    "\n",
    "def buildWordCloud():\n",
    "    wordcloud = WordCloud(width = 4500, height = 4500, \n",
    "                          background_color ='black', stopwords = stop_words, min_font_size = 10, \n",
    "                          max_words = 50).generate(df2corpus(data[data['Spam'] == 1]['Text']))\n",
    "    plt.figure(figsize = (8, 8), facecolor = None)\n",
    "    plt.imshow(wordcloud)\n",
    "    plt.axis(\"off\")\n",
    "    plt.tight_layout(pad = 0)\n",
    "    plt.show()\n",
    "    \n",
    "buildWordCloud()"
   ]
  },
  {
   "cell_type": "markdown",
   "metadata": {},
   "source": [
    "# Vectorizisation"
   ]
  },
  {
   "cell_type": "code",
   "execution_count": 23,
   "metadata": {
    "ExecuteTime": {
     "end_time": "2020-04-03T09:25:42.486986Z",
     "start_time": "2020-04-03T09:25:42.440893Z"
    }
   },
   "outputs": [],
   "source": [
    "from sklearn.feature_extraction.text import TfidfVectorizer"
   ]
  },
  {
   "cell_type": "code",
   "execution_count": 24,
   "metadata": {
    "ExecuteTime": {
     "end_time": "2020-04-03T09:25:47.723427Z",
     "start_time": "2020-04-03T09:25:42.495966Z"
    }
   },
   "outputs": [],
   "source": [
    "vectorizer = TfidfVectorizer(smooth_idf=True)\n",
    "vector = vectorizer.fit_transform(data['Text'])"
   ]
  },
  {
   "cell_type": "code",
   "execution_count": 25,
   "metadata": {
    "ExecuteTime": {
     "end_time": "2020-04-03T09:25:47.821155Z",
     "start_time": "2020-04-03T09:25:47.739386Z"
    }
   },
   "outputs": [],
   "source": [
    "y=data['Spam'].astype('int')"
   ]
  },
  {
   "cell_type": "code",
   "execution_count": 26,
   "metadata": {
    "ExecuteTime": {
     "end_time": "2020-04-03T09:25:48.086559Z",
     "start_time": "2020-04-03T09:25:47.830134Z"
    }
   },
   "outputs": [
    {
     "name": "stdout",
     "output_type": "stream",
     "text": [
      "X shape (25367, 56759)\n",
      "Y shape (25367,)\n"
     ]
    }
   ],
   "source": [
    "print('X shape', vector.shape)\n",
    "print('Y shape', y.shape)"
   ]
  },
  {
   "cell_type": "markdown",
   "metadata": {},
   "source": [
    "# Machine Learning"
   ]
  },
  {
   "cell_type": "code",
   "execution_count": 27,
   "metadata": {
    "ExecuteTime": {
     "end_time": "2020-04-03T09:25:49.049380Z",
     "start_time": "2020-04-03T09:25:48.089552Z"
    }
   },
   "outputs": [],
   "source": [
    "from sklearn.model_selection import train_test_split\n",
    "\n",
    "from sklearn.metrics import classification_report, confusion_matrix, f1_score\n",
    "\n",
    "from sklearn.naive_bayes import MultinomialNB, GaussianNB, BernoulliNB\n",
    "from sklearn.linear_model import LogisticRegression, SGDClassifier\n",
    "from sklearn.tree import DecisionTreeClassifier\n",
    "from sklearn.ensemble import VotingClassifier"
   ]
  },
  {
   "cell_type": "code",
   "execution_count": 28,
   "metadata": {
    "ExecuteTime": {
     "end_time": "2020-04-03T09:25:49.406145Z",
     "start_time": "2020-04-03T09:25:49.055318Z"
    }
   },
   "outputs": [],
   "source": [
    "X_train, X_test, y_train, y_test = train_test_split(vector, y, test_size=0.3, random_state=0)"
   ]
  },
  {
   "cell_type": "code",
   "execution_count": 29,
   "metadata": {
    "ExecuteTime": {
     "end_time": "2020-04-03T09:25:49.446950Z",
     "start_time": "2020-04-03T09:25:49.436979Z"
    }
   },
   "outputs": [],
   "source": [
    "performances = {}"
   ]
  },
  {
   "cell_type": "markdown",
   "metadata": {},
   "source": [
    "## Multinomial NB"
   ]
  },
  {
   "cell_type": "code",
   "execution_count": 30,
   "metadata": {
    "ExecuteTime": {
     "end_time": "2020-04-03T09:25:49.857501Z",
     "start_time": "2020-04-03T09:25:49.452936Z"
    }
   },
   "outputs": [
    {
     "name": "stdout",
     "output_type": "stream",
     "text": [
      "[[3320  384]\n",
      " [  39 3868]]\n",
      "              precision    recall  f1-score   support\n",
      "\n",
      "           0       0.99      0.90      0.94      3704\n",
      "           1       0.91      0.99      0.95      3907\n",
      "\n",
      "   micro avg       0.94      0.94      0.94      7611\n",
      "   macro avg       0.95      0.94      0.94      7611\n",
      "weighted avg       0.95      0.94      0.94      7611\n",
      "\n"
     ]
    }
   ],
   "source": [
    "model = MultinomialNB()\n",
    "model.fit(X_train, y_train)\n",
    "y_pred = model.predict(X_test)\n",
    "\n",
    "cm = confusion_matrix(y_test, y_pred)\n",
    "performances['MNB'] = [f1_score(y_test, y_pred), cm[0][0], cm[0][1], cm[1][0], cm[1][1]]\n",
    "print(cm)\n",
    "print(classification_report(y_test, y_pred))"
   ]
  },
  {
   "cell_type": "markdown",
   "metadata": {},
   "source": [
    "## Bernoulli NB"
   ]
  },
  {
   "cell_type": "code",
   "execution_count": 31,
   "metadata": {
    "ExecuteTime": {
     "end_time": "2020-04-03T09:25:50.176208Z",
     "start_time": "2020-04-03T09:25:49.864006Z"
    }
   },
   "outputs": [
    {
     "name": "stdout",
     "output_type": "stream",
     "text": [
      "[[3531  173]\n",
      " [ 201 3706]]\n",
      "              precision    recall  f1-score   support\n",
      "\n",
      "           0       0.95      0.95      0.95      3704\n",
      "           1       0.96      0.95      0.95      3907\n",
      "\n",
      "   micro avg       0.95      0.95      0.95      7611\n",
      "   macro avg       0.95      0.95      0.95      7611\n",
      "weighted avg       0.95      0.95      0.95      7611\n",
      "\n"
     ]
    }
   ],
   "source": [
    "model = BernoulliNB()\n",
    "model.fit(X_train, y_train)\n",
    "y_pred = model.predict(X_test)\n",
    "\n",
    "cm = confusion_matrix(y_test, y_pred)\n",
    "performances['BNB'] = [f1_score(y_test, y_pred), cm[0][0], cm[0][1], cm[1][0], cm[1][1]]\n",
    "print(cm)\n",
    "print(classification_report(y_test, y_pred))"
   ]
  },
  {
   "cell_type": "markdown",
   "metadata": {},
   "source": [
    "## Logistic Regression"
   ]
  },
  {
   "cell_type": "code",
   "execution_count": 32,
   "metadata": {
    "ExecuteTime": {
     "end_time": "2020-04-03T09:25:51.393916Z",
     "start_time": "2020-04-03T09:25:50.179201Z"
    }
   },
   "outputs": [
    {
     "name": "stdout",
     "output_type": "stream",
     "text": [
      "[[3602  102]\n",
      " [ 146 3761]]\n",
      "              precision    recall  f1-score   support\n",
      "\n",
      "           0       0.96      0.97      0.97      3704\n",
      "           1       0.97      0.96      0.97      3907\n",
      "\n",
      "   micro avg       0.97      0.97      0.97      7611\n",
      "   macro avg       0.97      0.97      0.97      7611\n",
      "weighted avg       0.97      0.97      0.97      7611\n",
      "\n"
     ]
    }
   ],
   "source": [
    "model = LogisticRegression(solver='lbfgs', max_iter=1000)\n",
    "model.fit(X_train, y_train)\n",
    "y_pred = model.predict(X_test)\n",
    "\n",
    "cm = confusion_matrix(y_test, y_pred)\n",
    "performances['LR'] = [f1_score(y_test, y_pred), cm[0][0], cm[0][1], cm[1][0], cm[1][1]]\n",
    "print(cm)\n",
    "print(classification_report(y_test, y_pred))"
   ]
  },
  {
   "cell_type": "markdown",
   "metadata": {},
   "source": [
    "## SGD Classifier - log loss"
   ]
  },
  {
   "cell_type": "code",
   "execution_count": 33,
   "metadata": {
    "ExecuteTime": {
     "end_time": "2020-04-03T09:25:51.915637Z",
     "start_time": "2020-04-03T09:25:51.399895Z"
    }
   },
   "outputs": [
    {
     "name": "stdout",
     "output_type": "stream",
     "text": [
      "[[3596  108]\n",
      " [ 194 3713]]\n",
      "              precision    recall  f1-score   support\n",
      "\n",
      "           0       0.95      0.97      0.96      3704\n",
      "           1       0.97      0.95      0.96      3907\n",
      "\n",
      "   micro avg       0.96      0.96      0.96      7611\n",
      "   macro avg       0.96      0.96      0.96      7611\n",
      "weighted avg       0.96      0.96      0.96      7611\n",
      "\n"
     ]
    }
   ],
   "source": [
    "model = SGDClassifier(loss='log', max_iter=1000, tol=0.001)\n",
    "model.fit(X_train, y_train)\n",
    "y_pred = model.predict(X_test)\n",
    "\n",
    "cm = confusion_matrix(y_test, y_pred)\n",
    "performances['SGD-log'] = [f1_score(y_test, y_pred), cm[0][0], cm[0][1], cm[1][0], cm[1][1]]\n",
    "print(cm)\n",
    "print(classification_report(y_test, y_pred))"
   ]
  },
  {
   "cell_type": "markdown",
   "metadata": {},
   "source": [
    "## SGD Classifier - hinge loss"
   ]
  },
  {
   "cell_type": "code",
   "execution_count": 34,
   "metadata": {
    "ExecuteTime": {
     "end_time": "2020-04-03T09:25:52.055264Z",
     "start_time": "2020-04-03T09:25:51.919627Z"
    }
   },
   "outputs": [
    {
     "name": "stdout",
     "output_type": "stream",
     "text": [
      "[[3627   77]\n",
      " [ 120 3787]]\n",
      "              precision    recall  f1-score   support\n",
      "\n",
      "           0       0.97      0.98      0.97      3704\n",
      "           1       0.98      0.97      0.97      3907\n",
      "\n",
      "   micro avg       0.97      0.97      0.97      7611\n",
      "   macro avg       0.97      0.97      0.97      7611\n",
      "weighted avg       0.97      0.97      0.97      7611\n",
      "\n"
     ]
    }
   ],
   "source": [
    "model = SGDClassifier(loss='hinge', max_iter=1000, tol=0.001)\n",
    "model.fit(X_train, y_train)\n",
    "y_pred = model.predict(X_test)\n",
    "\n",
    "cm = confusion_matrix(y_test, y_pred)\n",
    "performances['SGD-hinge'] = [f1_score(y_test, y_pred), cm[0][0], cm[0][1], cm[1][0], cm[1][1]]\n",
    "print(cm)\n",
    "print(classification_report(y_test, y_pred))"
   ]
  },
  {
   "cell_type": "markdown",
   "metadata": {},
   "source": [
    "## SGD Classifier - perceptron loss"
   ]
  },
  {
   "cell_type": "code",
   "execution_count": 35,
   "metadata": {
    "ExecuteTime": {
     "end_time": "2020-04-03T09:25:52.173972Z",
     "start_time": "2020-04-03T09:25:52.058256Z"
    }
   },
   "outputs": [
    {
     "name": "stdout",
     "output_type": "stream",
     "text": [
      "[[3508  196]\n",
      " [  82 3825]]\n",
      "              precision    recall  f1-score   support\n",
      "\n",
      "           0       0.98      0.95      0.96      3704\n",
      "           1       0.95      0.98      0.96      3907\n",
      "\n",
      "   micro avg       0.96      0.96      0.96      7611\n",
      "   macro avg       0.96      0.96      0.96      7611\n",
      "weighted avg       0.96      0.96      0.96      7611\n",
      "\n"
     ]
    }
   ],
   "source": [
    "model = SGDClassifier(loss='perceptron', max_iter=1000, tol=0.001)\n",
    "model.fit(X_train, y_train)\n",
    "y_pred = model.predict(X_test)\n",
    "\n",
    "cm = confusion_matrix(y_test, y_pred)\n",
    "performances['SGD-perceptron'] = [f1_score(y_test, y_pred), cm[0][0], cm[0][1], cm[1][0], cm[1][1]]\n",
    "print(cm)\n",
    "print(classification_report(y_test, y_pred))"
   ]
  },
  {
   "cell_type": "markdown",
   "metadata": {},
   "source": [
    "## Decision Tree"
   ]
  },
  {
   "cell_type": "code",
   "execution_count": 36,
   "metadata": {
    "ExecuteTime": {
     "end_time": "2020-04-03T09:26:01.241625Z",
     "start_time": "2020-04-03T09:25:52.177960Z"
    }
   },
   "outputs": [
    {
     "name": "stdout",
     "output_type": "stream",
     "text": [
      "[[3323  381]\n",
      " [   9 3898]]\n",
      "              precision    recall  f1-score   support\n",
      "\n",
      "           0       1.00      0.90      0.94      3704\n",
      "           1       0.91      1.00      0.95      3907\n",
      "\n",
      "   micro avg       0.95      0.95      0.95      7611\n",
      "   macro avg       0.95      0.95      0.95      7611\n",
      "weighted avg       0.95      0.95      0.95      7611\n",
      "\n"
     ]
    }
   ],
   "source": [
    "model = DecisionTreeClassifier()\n",
    "model.fit(X_train, y_train)\n",
    "y_pred = model.predict(X_test)\n",
    "\n",
    "cm = confusion_matrix(y_test, y_pred)\n",
    "performances['DTC'] = [f1_score(y_test, y_pred), cm[0][0], cm[0][1], cm[1][0], cm[1][1]]\n",
    "print(cm)\n",
    "print(classification_report(y_test, y_pred))"
   ]
  },
  {
   "cell_type": "markdown",
   "metadata": {},
   "source": [
    "## Comparison"
   ]
  },
  {
   "cell_type": "code",
   "execution_count": 37,
   "metadata": {
    "ExecuteTime": {
     "end_time": "2020-04-03T09:26:02.098096Z",
     "start_time": "2020-04-03T09:26:01.245615Z"
    }
   },
   "outputs": [
    {
     "data": {
      "image/png": "[encoded data removed]",
      "text/plain": [
       "<Figure size 1080x576 with 1 Axes>"
      ]
     },
     "metadata": {
      "needs_background": "light"
     },
     "output_type": "display_data"
    }
   ],
   "source": [
    "plt.figure(1, figsize=(15, 8))\n",
    "models = list(performances.keys())\n",
    "TN = np.array([v[1] for v in performances.values()])\n",
    "FP = np.array([v[2] for v in performances.values()])\n",
    "FN = np.array([v[3] for v in performances.values()])\n",
    "TP = np.array([v[4] for v in performances.values()])\n",
    " \n",
    "plt.bar(models, TN, width=0.6, label='TN', bottom=FP+FN+TP)\n",
    "plt.bar(models, FP, width=0.6, label='FP', bottom=FN+TP)\n",
    "plt.bar(models, FN, width=0.6, label='FN', bottom=TP)\n",
    "plt.bar(models, TP, width=0.6, label='TP')\n",
    "\n",
    "plt.ylabel(\"Values\")\n",
    "plt.xlabel(\"Models\")\n",
    "plt.legend(loc=\"upper right\")\n",
    "plt.title(\"Confusion Matrix\")\n",
    "plt.show()"
   ]
  },
  {
   "cell_type": "code",
   "execution_count": 38,
   "metadata": {
    "ExecuteTime": {
     "end_time": "2020-04-03T09:26:02.322496Z",
     "start_time": "2020-04-03T09:26:02.101090Z"
    }
   },
   "outputs": [
    {
     "data": {
      "image/png": "[encoded data removed]",
      "text/plain": [
       "<Figure size 1080x576 with 1 Axes>"
      ]
     },
     "metadata": {
      "needs_background": "light"
     },
     "output_type": "display_data"
    }
   ],
   "source": [
    "plt.figure(1, figsize=(15, 8))\n",
    "for x in performances:\n",
    "    plt.bar(x, performances[x][0])\n",
    "plt.ylabel('F1 Scores')    \n",
    "plt.grid()\n",
    "plt.show()"
   ]
  },
  {
   "cell_type": "markdown",
   "metadata": {},
   "source": [
    "## Voting Classifier"
   ]
  },
  {
   "cell_type": "code",
   "execution_count": 39,
   "metadata": {
    "ExecuteTime": {
     "end_time": "2020-04-03T09:26:10.721624Z",
     "start_time": "2020-04-03T09:26:02.326486Z"
    }
   },
   "outputs": [
    {
     "name": "stdout",
     "output_type": "stream",
     "text": [
      "0.9738461538461538\n",
      "[[3609   95]\n",
      " [ 109 3798]]\n",
      "              precision    recall  f1-score   support\n",
      "\n",
      "           0       0.97      0.97      0.97      3704\n",
      "           1       0.98      0.97      0.97      3907\n",
      "\n",
      "   micro avg       0.97      0.97      0.97      7611\n",
      "   macro avg       0.97      0.97      0.97      7611\n",
      "weighted avg       0.97      0.97      0.97      7611\n",
      "\n"
     ]
    }
   ],
   "source": [
    "MNB = MultinomialNB()\n",
    "BNB = BernoulliNB()\n",
    "LR = LogisticRegression(solver='lbfgs', max_iter=1000)\n",
    "SGDh = SGDClassifier(loss='hinge', max_iter=1000, tol=0.001)\n",
    "SGDl = SGDClassifier(loss='log', max_iter=1000, tol=0.001)\n",
    "SGDp = SGDClassifier(loss='perceptron', max_iter=1000, tol=0.001)\n",
    "DTC = DecisionTreeClassifier()\n",
    "\n",
    "model = VotingClassifier(estimators=[('mnb', MNB), ('bnb', BNB), ('lr', LR), \n",
    "                                     ('sgdl', SGDl), ('sgdh', SGDh), ('sgdp', SGDp),('dtc', DTC)])\n",
    "model = model.fit(X_train, y_train)\n",
    "y_pred = model.predict(X_test)\n",
    "\n",
    "print(f1_score(y_test, y_pred))\n",
    "print(confusion_matrix(y_test, y_pred))\n",
    "print(classification_report(y_test, y_pred))"
   ]
  },
  {
   "cell_type": "markdown",
   "metadata": {},
   "source": [
    "# Final Model"
   ]
  },
  {
   "cell_type": "code",
   "execution_count": 40,
   "metadata": {
    "ExecuteTime": {
     "end_time": "2020-04-03T09:26:20.458801Z",
     "start_time": "2020-04-03T09:26:10.724616Z"
    }
   },
   "outputs": [
    {
     "data": {
      "text/plain": [
       "VotingClassifier(estimators=[('mnb', MultinomialNB(alpha=1.0, class_prior=None, fit_prior=True)), ('bnb', BernoulliNB(alpha=1.0, binarize=0.0, class_prior=None, fit_prior=True)), ('lr', LogisticRegression(C=1.0, class_weight=None, dual=False, fit_intercept=True,\n",
       "          intercept_scaling=1, max_iter=1000, multi_cl...      min_weight_fraction_leaf=0.0, presort=False, random_state=None,\n",
       "            splitter='best'))],\n",
       "         flatten_transform=None, n_jobs=None, voting='hard', weights=None)"
      ]
     },
     "execution_count": 40,
     "metadata": {},
     "output_type": "execute_result"
    }
   ],
   "source": [
    "MNB = MultinomialNB()\n",
    "BNB = BernoulliNB()\n",
    "LR = LogisticRegression(solver='lbfgs', max_iter=1000)\n",
    "SGDh = SGDClassifier(loss='hinge', max_iter=1000, tol=0.001)\n",
    "SGDl = SGDClassifier(loss='log', max_iter=1000, tol=0.001)\n",
    "SGDp = SGDClassifier(loss='perceptron', max_iter=1000, tol=0.001)\n",
    "DTC = DecisionTreeClassifier()\n",
    "\n",
    "model = VotingClassifier(estimators=[('mnb', MNB), ('bnb', BNB), ('lr', LR), \n",
    "                                     ('sgdl', SGDl), ('sgdh', SGDh), ('sgdp', SGDp),('dtc', DTC)])\n",
    "model.fit(vector, y)"
   ]
  },
  {
   "cell_type": "code",
   "execution_count": 42,
   "metadata": {
    "ExecuteTime": {
     "end_time": "2020-04-03T09:27:58.345618Z",
     "start_time": "2020-04-03T09:27:58.339638Z"
    }
   },
   "outputs": [],
   "source": [
    "DIR = 'E:/Models/Spam-Filter'\n",
    "if not os.path.isdir(DIR):\n",
    "    os.mkdir(DIR)"
   ]
  },
  {
   "cell_type": "code",
   "execution_count": 43,
   "metadata": {
    "ExecuteTime": {
     "end_time": "2020-04-03T09:28:01.242766Z",
     "start_time": "2020-04-03T09:28:00.833784Z"
    }
   },
   "outputs": [],
   "source": [
    "pickle.dump(vectorizer, open(f'{DIR}/Vectorizer-spam-oversampled.pickle', 'wb'))"
   ]
  },
  {
   "cell_type": "code",
   "execution_count": 44,
   "metadata": {
    "ExecuteTime": {
     "end_time": "2020-04-03T09:28:01.945425Z",
     "start_time": "2020-04-03T09:28:01.837451Z"
    }
   },
   "outputs": [],
   "source": [
    "pickle.dump(model, open(f'{DIR}/SpamClassifier-oversampled.pickle', 'wb'))"
   ]
  },
  {
   "cell_type": "code",
   "execution_count": null,
   "metadata": {},
   "outputs": [],
   "source": []
  }
 ],
 "metadata": {
  "kernelspec": {
   "display_name": "Python 3",
   "language": "python",
   "name": "python3"
  },
  "language_info": {
   "codemirror_mode": {
    "name": "ipython",
    "version": 3
   },
   "file_extension": ".py",
   "mimetype": "text/x-python",
   "name": "python",
   "nbconvert_exporter": "python",
   "pygments_lexer": "ipython3",
   "version": "3.7.3"
  },
  "toc": {
   "base_numbering": 1,
   "nav_menu": {},
   "number_sections": true,
   "sideBar": true,
   "skip_h1_title": false,
   "title_cell": "Table of Contents",
   "title_sidebar": "Contents",
   "toc_cell": false,
   "toc_position": {},
   "toc_section_display": true,
   "toc_window_display": false
  },
  "varInspector": {
   "cols": {
    "lenName": 16,
    "lenType": 16,
    "lenVar": 40
   },
   "kernels_config": {
    "python": {
     "delete_cmd_postfix": "",
     "delete_cmd_prefix": "del ",
     "library": "var_list.py",
     "varRefreshCmd": "print(var_dic_list())"
    },
    "r": {
     "delete_cmd_postfix": ") ",
     "delete_cmd_prefix": "rm(",
     "library": "var_list.r",
     "varRefreshCmd": "cat(var_dic_list()) "
    }
   },
   "types_to_exclude": [
    "module",
    "function",
    "builtin_function_or_method",
    "instance",
    "_Feature"
   ],
   "window_display": false
  }
 },
 "nbformat": 4,
 "nbformat_minor": 2
}
