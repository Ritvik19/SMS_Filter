{
 "cells": [
  {
   "cell_type": "code",
   "execution_count": 1,
   "metadata": {
    "collapsed": true
   },
   "outputs": [],
   "source": [
    "import numpy as np\n",
    "import pandas as pd\n",
    "import matplotlib.pyplot as plt\n",
    "import seaborn as sns\n",
    "%matplotlib inline"
   ]
  },
  {
   "cell_type": "code",
   "execution_count": 2,
   "metadata": {
    "collapsed": true
   },
   "outputs": [],
   "source": [
    "from sklearn.model_selection import cross_val_score"
   ]
  },
  {
   "cell_type": "code",
   "execution_count": 3,
   "metadata": {
    "collapsed": true
   },
   "outputs": [],
   "source": [
    "data = pd.read_csv('SMS_Data.csv')\n",
    "\n",
    "X = data['message']\n",
    "y = data['label']"
   ]
  },
  {
   "cell_type": "code",
   "execution_count": 4,
   "metadata": {
    "collapsed": true
   },
   "outputs": [],
   "source": [
    "import nltk\n",
    "import string\n",
    "from nltk.corpus import stopwords\n",
    "from nltk.stem.porter import PorterStemmer\n",
    "from sklearn.model_selection import train_test_split\n",
    "from sklearn.feature_extraction.text import CountVectorizer, TfidfTransformer\n",
    "def text_preprocess(mess):\n",
    "    ps = PorterStemmer()\n",
    "    nopunc = [char for char in mess if char not in string.punctuation]\n",
    "    nopunc = ''.join(nopunc)\n",
    "    clean = [ps.stem(word).lower() for word in nopunc.split() if word.lower() not in stopwords.words('english')]\n",
    "    clean = ' '.join(clean)\n",
    "    return clean\n",
    "bow_transformer = CountVectorizer(analyzer=text_preprocess).fit(X)\n",
    "Vocablury = len(bow_transformer.vocabulary_)\n",
    "nlp_bow = bow_transformer.transform(X)\n",
    "tfidf_transformer = TfidfTransformer().fit(nlp_bow)\n",
    "nlp_tfidf = tfidf_transformer.transform(nlp_bow)"
   ]
  },
  {
   "cell_type": "code",
   "execution_count": 5,
   "metadata": {},
   "outputs": [
    {
     "name": "stdout",
     "output_type": "stream",
     "text": [
      "Validaton Scores: 0.9658973047426423 (0.007717851759243637)\n"
     ]
    }
   ],
   "source": [
    "from sklearn.naive_bayes import MultinomialNB\n",
    "model1 = MultinomialNB()\n",
    "model1.fit(nlp_tfidf, y)\n",
    "\n",
    "accuracies = cross_val_score(estimator=model1, X=nlp_tfidf, y=y, cv=10)\n",
    "m_acc = accuracies.mean()\n",
    "s_acc = accuracies.std()\n",
    "print(\"Validaton Scores: {} ({})\".format(m_acc, s_acc))"
   ]
  },
  {
   "cell_type": "code",
   "execution_count": 6,
   "metadata": {},
   "outputs": [
    {
     "name": "stdout",
     "output_type": "stream",
     "text": [
      "Validaton Scores: 0.9727157151906318 (0.006584984672028509)\n"
     ]
    }
   ],
   "source": [
    "from sklearn.linear_model import LogisticRegression\n",
    "model2 = LogisticRegression()\n",
    "model2.fit(nlp_tfidf, y)\n",
    "\n",
    "accuracies = cross_val_score(estimator=model2, X=nlp_tfidf, y=y, cv=10)\n",
    "m_acc = accuracies.mean()\n",
    "s_acc = accuracies.std()\n",
    "print(\"Validaton Scores: {} ({})\".format(m_acc, s_acc))"
   ]
  },
  {
   "cell_type": "code",
   "execution_count": 7,
   "metadata": {},
   "outputs": [
    {
     "name": "stdout",
     "output_type": "stream",
     "text": [
      "Validaton Scores: 0.9727157151906318 (0.006584984672028509)\n"
     ]
    }
   ],
   "source": [
    "from sklearn.naive_bayes import BernoulliNB\n",
    "model3 = BernoulliNB()\n",
    "model3.fit(nlp_tfidf, y)\n",
    "\n",
    "accuracies = cross_val_score(estimator=model2, X=nlp_tfidf, y=y, cv=10)\n",
    "m_acc = accuracies.mean()\n",
    "s_acc = accuracies.std()\n",
    "print(\"Validaton Scores: {} ({})\".format(m_acc, s_acc))"
   ]
  },
  {
   "cell_type": "code",
   "execution_count": 8,
   "metadata": {
    "collapsed": true
   },
   "outputs": [],
   "source": [
    "test = pd.Series(['Get your detailed credit report instantly in 2 min with free monthly refresh Get it now'])\n",
    "nlp_bow_test = bow_transformer.transform(test)\n",
    "nlp_tfidf_test = tfidf_transformer.transform(nlp_bow_test)"
   ]
  },
  {
   "cell_type": "code",
   "execution_count": 9,
   "metadata": {},
   "outputs": [
    {
     "data": {
      "text/plain": [
       "array(['ham'],\n",
       "      dtype='<U4')"
      ]
     },
     "execution_count": 9,
     "metadata": {},
     "output_type": "execute_result"
    }
   ],
   "source": [
    "model1.predict(nlp_tfidf_test)"
   ]
  },
  {
   "cell_type": "code",
   "execution_count": 10,
   "metadata": {},
   "outputs": [
    {
     "data": {
      "text/plain": [
       "array(['ham'], dtype=object)"
      ]
     },
     "execution_count": 10,
     "metadata": {},
     "output_type": "execute_result"
    }
   ],
   "source": [
    "model2.predict(nlp_tfidf_test)"
   ]
  },
  {
   "cell_type": "code",
   "execution_count": 11,
   "metadata": {},
   "outputs": [
    {
     "data": {
      "text/plain": [
       "array(['ham'],\n",
       "      dtype='<U4')"
      ]
     },
     "execution_count": 11,
     "metadata": {},
     "output_type": "execute_result"
    }
   ],
   "source": [
    "model3.predict(nlp_tfidf_test)"
   ]
  }
 ],
 "metadata": {
  "kernelspec": {
   "display_name": "Python 3",
   "language": "python",
   "name": "python3"
  },
  "language_info": {
   "codemirror_mode": {
    "name": "ipython",
    "version": 3
   },
   "file_extension": ".py",
   "mimetype": "text/x-python",
   "name": "python",
   "nbconvert_exporter": "python",
   "pygments_lexer": "ipython3",
   "version": "3.6.3"
  }
 },
 "nbformat": 4,
 "nbformat_minor": 2
}
