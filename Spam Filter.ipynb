{
 "cells": [
  {
   "cell_type": "markdown",
   "metadata": {},
   "source": [
    "# Libraries"
   ]
  },
  {
   "cell_type": "code",
   "execution_count": 1,
   "metadata": {
    "ExecuteTime": {
     "end_time": "2019-09-24T05:19:29.575114Z",
     "start_time": "2019-09-24T05:19:26.926961Z"
    }
   },
   "outputs": [],
   "source": [
    "import numpy as np\n",
    "import pandas as pd\n",
    "import matplotlib.pyplot as plt\n",
    "\n",
    "import pickle, os\n",
    "from IPython.display import clear_output"
   ]
  },
  {
   "cell_type": "code",
   "execution_count": 2,
   "metadata": {
    "ExecuteTime": {
     "end_time": "2019-09-24T05:19:29.794767Z",
     "start_time": "2019-09-24T05:19:29.581257Z"
    }
   },
   "outputs": [],
   "source": [
    "from tqdm import tqdm"
   ]
  },
  {
   "cell_type": "code",
   "execution_count": 3,
   "metadata": {
    "ExecuteTime": {
     "end_time": "2019-09-24T05:19:29.812478Z",
     "start_time": "2019-09-24T05:19:29.799514Z"
    }
   },
   "outputs": [],
   "source": [
    "pd.options.display.max_colwidth = -1\n",
    "%matplotlib inline"
   ]
  },
  {
   "cell_type": "markdown",
   "metadata": {},
   "source": [
    "# Data"
   ]
  },
  {
   "cell_type": "markdown",
   "metadata": {},
   "source": [
    "https://www.kaggle.com/karthickveerakumar/spam-filter"
   ]
  },
  {
   "cell_type": "markdown",
   "metadata": {},
   "source": [
    "https://www.kaggle.com/uciml/sms-spam-collection-dataset"
   ]
  },
  {
   "cell_type": "markdown",
   "metadata": {},
   "source": [
    "https://archive.ics.uci.edu/ml/datasets/YouTube+Spam+Collection"
   ]
  },
  {
   "cell_type": "code",
   "execution_count": 4,
   "metadata": {
    "ExecuteTime": {
     "end_time": "2019-09-24T05:19:30.825768Z",
     "start_time": "2019-09-24T05:19:29.818069Z"
    }
   },
   "outputs": [],
   "source": [
    "data1 = pd.read_csv('emails.csv')\n",
    "data2 = pd.read_csv('sms.csv')\n",
    "data3 = pd.read_csv('Youtube01-Psy.csv')\n",
    "data4 = pd.read_csv('Youtube02-KatyPerry.csv')\n",
    "data5 = pd.read_csv('Youtube03-LMFAO.csv')\n",
    "data6 = pd.read_csv('Youtube04-Eminem.csv')\n",
    "data7 = pd.read_csv('Youtube05-Shakira.csv')"
   ]
  },
  {
   "cell_type": "code",
   "execution_count": 5,
   "metadata": {
    "ExecuteTime": {
     "end_time": "2019-09-24T05:19:30.864439Z",
     "start_time": "2019-09-24T05:19:30.831751Z"
    }
   },
   "outputs": [
    {
     "data": {
      "text/html": [
       "<div>\n",
       "<style scoped>\n",
       "    .dataframe tbody tr th:only-of-type {\n",
       "        vertical-align: middle;\n",
       "    }\n",
       "\n",
       "    .dataframe tbody tr th {\n",
       "        vertical-align: top;\n",
       "    }\n",
       "\n",
       "    .dataframe thead th {\n",
       "        text-align: right;\n",
       "    }\n",
       "</style>\n",
       "<table border=\"1\" class=\"dataframe\">\n",
       "  <thead>\n",
       "    <tr style=\"text-align: right;\">\n",
       "      <th></th>\n",
       "      <th>text</th>\n",
       "      <th>spam</th>\n",
       "    </tr>\n",
       "  </thead>\n",
       "  <tbody>\n",
       "    <tr>\n",
       "      <td>0</td>\n",
       "      <td>Subject: naturally irresistible your corporate identity  lt is really hard to recollect a company : the  market is full of suqgestions and the information isoverwhelminq ; but a good  catchy logo , stylish statlonery and outstanding website  will make the task much easier .  we do not promise that havinq ordered a iogo your  company will automaticaily become a world ieader : it isguite ciear that  without good products , effective business organization and practicable aim it  will be hotat nowadays market ; but we do promise that your marketing efforts  will become much more effective . here is the list of clear  benefits : creativeness : hand - made , original logos , specially done  to reflect your distinctive company image . convenience : logo and stationery  are provided in all formats ; easy - to - use content management system letsyou  change your website content and even its structure . promptness : you  will see logo drafts within three business days . affordability : your  marketing break - through shouldn ' t make gaps in your budget . 100 % satisfaction  guaranteed : we provide unlimited amount of changes with no extra fees for you to  be surethat you will love the result of this collaboration . have a look at our  portfolio _ _ _ _ _ _ _ _ _ _ _ _ _ _ _ _ _ _ _ _ _ _ _ _ _ _ _ _ _ _ _ _ _ _ _ _ _ _ _ _ _ _ _ _ _ _ _ _ _ _ _ _ not interested . . . _ _ _ _ _ _ _ _ _ _ _ _ _ _ _ _ _ _ _ _ _ _ _ _ _ _ _ _ _ _ _ _ _ _ _ _ _ _ _ _ _ _ _ _ _ _ _ _ _ _ _ _</td>\n",
       "      <td>1</td>\n",
       "    </tr>\n",
       "    <tr>\n",
       "      <td>1</td>\n",
       "      <td>Subject: the stock trading gunslinger  fanny is merrill but muzo not colza attainder and penultimate like esmark perspicuous ramble is segovia not group try slung kansas tanzania yes chameleon or continuant clothesman no  libretto is chesapeake but tight not waterway herald and hawthorn like chisel morristown superior is deoxyribonucleic not clockwork try hall incredible mcdougall yes hepburn or einsteinian earmark no  sapling is boar but duane not plain palfrey and inflexible like huzzah pepperoni bedtime is nameable not attire try edt chronography optima yes pirogue or diffusion albeit no</td>\n",
       "      <td>1</td>\n",
       "    </tr>\n",
       "    <tr>\n",
       "      <td>2</td>\n",
       "      <td>Subject: unbelievable new homes made easy  im wanting to show you this  homeowner  you have been pre - approved for a $ 454 , 169 home loan at a 3 . 72 fixed rate .  this offer is being extended to you unconditionally and your credit is in no way a factor .  to take advantage of this limited time opportunity  all we ask is that you visit our website and complete  the 1 minute post approval form  look foward to hearing from you ,  dorcas pittman</td>\n",
       "      <td>1</td>\n",
       "    </tr>\n",
       "    <tr>\n",
       "      <td>3</td>\n",
       "      <td>Subject: 4 color printing special  request additional information now ! click here  click here for a printable version of our order form ( pdf format )  phone : ( 626 ) 338 - 8090 fax : ( 626 ) 338 - 8102 e - mail : ramsey @ goldengraphix . com  request additional information now ! click here  click here for a printable version of our order form ( pdf format )  golden graphix &amp; printing 5110 azusa canyon rd . irwindale , ca 91706 this e - mail message is an advertisement and / or solicitation .</td>\n",
       "      <td>1</td>\n",
       "    </tr>\n",
       "    <tr>\n",
       "      <td>4</td>\n",
       "      <td>Subject: do not have money , get software cds from here !  software compatibility . . . . ain ' t it great ?  grow old along with me the best is yet to be .  all tradgedies are finish ' d by death . all comedies are ended by marriage .</td>\n",
       "      <td>1</td>\n",
       "    </tr>\n",
       "  </tbody>\n",
       "</table>\n",
       "</div>"
      ],
      "text/plain": [
       "                                                                                                                                                                                                                                                                                                                                                                                                                                                                                                                                                                                                                                                                                                                                                                                                                                                                                                                                                                                                                                                                                                                                                                                                                                                                                                                                                                                                                                                                                                                                           text  \\\n",
       "0  Subject: naturally irresistible your corporate identity  lt is really hard to recollect a company : the  market is full of suqgestions and the information isoverwhelminq ; but a good  catchy logo , stylish statlonery and outstanding website  will make the task much easier .  we do not promise that havinq ordered a iogo your  company will automaticaily become a world ieader : it isguite ciear that  without good products , effective business organization and practicable aim it  will be hotat nowadays market ; but we do promise that your marketing efforts  will become much more effective . here is the list of clear  benefits : creativeness : hand - made , original logos , specially done  to reflect your distinctive company image . convenience : logo and stationery  are provided in all formats ; easy - to - use content management system letsyou  change your website content and even its structure . promptness : you  will see logo drafts within three business days . affordability : your  marketing break - through shouldn ' t make gaps in your budget . 100 % satisfaction  guaranteed : we provide unlimited amount of changes with no extra fees for you to  be surethat you will love the result of this collaboration . have a look at our  portfolio _ _ _ _ _ _ _ _ _ _ _ _ _ _ _ _ _ _ _ _ _ _ _ _ _ _ _ _ _ _ _ _ _ _ _ _ _ _ _ _ _ _ _ _ _ _ _ _ _ _ _ _ not interested . . . _ _ _ _ _ _ _ _ _ _ _ _ _ _ _ _ _ _ _ _ _ _ _ _ _ _ _ _ _ _ _ _ _ _ _ _ _ _ _ _ _ _ _ _ _ _ _ _ _ _ _ _   \n",
       "1  Subject: the stock trading gunslinger  fanny is merrill but muzo not colza attainder and penultimate like esmark perspicuous ramble is segovia not group try slung kansas tanzania yes chameleon or continuant clothesman no  libretto is chesapeake but tight not waterway herald and hawthorn like chisel morristown superior is deoxyribonucleic not clockwork try hall incredible mcdougall yes hepburn or einsteinian earmark no  sapling is boar but duane not plain palfrey and inflexible like huzzah pepperoni bedtime is nameable not attire try edt chronography optima yes pirogue or diffusion albeit no                                                                                                                                                                                                                                                                                                                                                                                                                                                                                                                                                                                                                                                                                                                                                                                                                                                                                                                          \n",
       "2  Subject: unbelievable new homes made easy  im wanting to show you this  homeowner  you have been pre - approved for a $ 454 , 169 home loan at a 3 . 72 fixed rate .  this offer is being extended to you unconditionally and your credit is in no way a factor .  to take advantage of this limited time opportunity  all we ask is that you visit our website and complete  the 1 minute post approval form  look foward to hearing from you ,  dorcas pittman                                                                                                                                                                                                                                                                                                                                                                                                                                                                                                                                                                                                                                                                                                                                                                                                                                                                                                                                                                                                                                                                               \n",
       "3  Subject: 4 color printing special  request additional information now ! click here  click here for a printable version of our order form ( pdf format )  phone : ( 626 ) 338 - 8090 fax : ( 626 ) 338 - 8102 e - mail : ramsey @ goldengraphix . com  request additional information now ! click here  click here for a printable version of our order form ( pdf format )  golden graphix & printing 5110 azusa canyon rd . irwindale , ca 91706 this e - mail message is an advertisement and / or solicitation .                                                                                                                                                                                                                                                                                                                                                                                                                                                                                                                                                                                                                                                                                                                                                                                                                                                                                                                                                                                                                            \n",
       "4  Subject: do not have money , get software cds from here !  software compatibility . . . . ain ' t it great ?  grow old along with me the best is yet to be .  all tradgedies are finish ' d by death . all comedies are ended by marriage .                                                                                                                                                                                                                                                                                                                                                                                                                                                                                                                                                                                                                                                                                                                                                                                                                                                                                                                                                                                                                                                                                                                                                                                                                                                                                                    \n",
       "\n",
       "   spam  \n",
       "0  1     \n",
       "1  1     \n",
       "2  1     \n",
       "3  1     \n",
       "4  1     "
      ]
     },
     "execution_count": 5,
     "metadata": {},
     "output_type": "execute_result"
    }
   ],
   "source": [
    "data1.head()"
   ]
  },
  {
   "cell_type": "code",
   "execution_count": 6,
   "metadata": {
    "ExecuteTime": {
     "end_time": "2019-09-24T05:19:31.500962Z",
     "start_time": "2019-09-24T05:19:30.868653Z"
    }
   },
   "outputs": [
    {
     "data": {
      "text/html": [
       "<div>\n",
       "<style scoped>\n",
       "    .dataframe tbody tr th:only-of-type {\n",
       "        vertical-align: middle;\n",
       "    }\n",
       "\n",
       "    .dataframe tbody tr th {\n",
       "        vertical-align: top;\n",
       "    }\n",
       "\n",
       "    .dataframe thead th {\n",
       "        text-align: right;\n",
       "    }\n",
       "</style>\n",
       "<table border=\"1\" class=\"dataframe\">\n",
       "  <thead>\n",
       "    <tr style=\"text-align: right;\">\n",
       "      <th></th>\n",
       "      <th>Unnamed: 0</th>\n",
       "      <th>label</th>\n",
       "      <th>message</th>\n",
       "      <th>length</th>\n",
       "    </tr>\n",
       "  </thead>\n",
       "  <tbody>\n",
       "    <tr>\n",
       "      <td>0</td>\n",
       "      <td>0</td>\n",
       "      <td>ham</td>\n",
       "      <td>Go until jurong point, crazy.. Available only in bugis n great world la e buffet... Cine there got amore wat...</td>\n",
       "      <td>111</td>\n",
       "    </tr>\n",
       "    <tr>\n",
       "      <td>1</td>\n",
       "      <td>1</td>\n",
       "      <td>ham</td>\n",
       "      <td>Ok lar... Joking wif u oni...</td>\n",
       "      <td>29</td>\n",
       "    </tr>\n",
       "    <tr>\n",
       "      <td>2</td>\n",
       "      <td>2</td>\n",
       "      <td>spam</td>\n",
       "      <td>Free entry in 2 a wkly comp to win FA Cup final tkts 21st May 2005. Text FA to 87121 to receive entry question(std txt rate)T&amp;C's apply 08452810075over18's</td>\n",
       "      <td>155</td>\n",
       "    </tr>\n",
       "    <tr>\n",
       "      <td>3</td>\n",
       "      <td>3</td>\n",
       "      <td>ham</td>\n",
       "      <td>U dun say so early hor... U c already then say...</td>\n",
       "      <td>49</td>\n",
       "    </tr>\n",
       "    <tr>\n",
       "      <td>4</td>\n",
       "      <td>4</td>\n",
       "      <td>ham</td>\n",
       "      <td>Nah I don't think he goes to usf, he lives around here though</td>\n",
       "      <td>61</td>\n",
       "    </tr>\n",
       "  </tbody>\n",
       "</table>\n",
       "</div>"
      ],
      "text/plain": [
       "   Unnamed: 0 label  \\\n",
       "0  0           ham    \n",
       "1  1           ham    \n",
       "2  2           spam   \n",
       "3  3           ham    \n",
       "4  4           ham    \n",
       "\n",
       "                                                                                                                                                       message  \\\n",
       "0  Go until jurong point, crazy.. Available only in bugis n great world la e buffet... Cine there got amore wat...                                               \n",
       "1  Ok lar... Joking wif u oni...                                                                                                                                 \n",
       "2  Free entry in 2 a wkly comp to win FA Cup final tkts 21st May 2005. Text FA to 87121 to receive entry question(std txt rate)T&C's apply 08452810075over18's   \n",
       "3  U dun say so early hor... U c already then say...                                                                                                             \n",
       "4  Nah I don't think he goes to usf, he lives around here though                                                                                                 \n",
       "\n",
       "   length  \n",
       "0  111     \n",
       "1  29      \n",
       "2  155     \n",
       "3  49      \n",
       "4  61      "
      ]
     },
     "execution_count": 6,
     "metadata": {},
     "output_type": "execute_result"
    }
   ],
   "source": [
    "data2.head()"
   ]
  },
  {
   "cell_type": "code",
   "execution_count": 7,
   "metadata": {
    "ExecuteTime": {
     "end_time": "2019-09-24T05:19:32.070648Z",
     "start_time": "2019-09-24T05:19:31.504950Z"
    }
   },
   "outputs": [
    {
     "data": {
      "text/html": [
       "<div>\n",
       "<style scoped>\n",
       "    .dataframe tbody tr th:only-of-type {\n",
       "        vertical-align: middle;\n",
       "    }\n",
       "\n",
       "    .dataframe tbody tr th {\n",
       "        vertical-align: top;\n",
       "    }\n",
       "\n",
       "    .dataframe thead th {\n",
       "        text-align: right;\n",
       "    }\n",
       "</style>\n",
       "<table border=\"1\" class=\"dataframe\">\n",
       "  <thead>\n",
       "    <tr style=\"text-align: right;\">\n",
       "      <th></th>\n",
       "      <th>COMMENT_ID</th>\n",
       "      <th>AUTHOR</th>\n",
       "      <th>DATE</th>\n",
       "      <th>CONTENT</th>\n",
       "      <th>CLASS</th>\n",
       "    </tr>\n",
       "  </thead>\n",
       "  <tbody>\n",
       "    <tr>\n",
       "      <td>0</td>\n",
       "      <td>LZQPQhLyRh80UYxNuaDWhIGQYNQ96IuCg-AYWqNPjpU</td>\n",
       "      <td>Julius NM</td>\n",
       "      <td>2013-11-07T06:20:48</td>\n",
       "      <td>Huh, anyway check out this you[tube] channel: kobyoshi02</td>\n",
       "      <td>1</td>\n",
       "    </tr>\n",
       "    <tr>\n",
       "      <td>1</td>\n",
       "      <td>LZQPQhLyRh_C2cTtd9MvFRJedxydaVW-2sNg5Diuo4A</td>\n",
       "      <td>adam riyati</td>\n",
       "      <td>2013-11-07T12:37:15</td>\n",
       "      <td>Hey guys check out my new channel and our first vid THIS IS US THE  MONKEYS!!! I'm the monkey in the white shirt,please leave a like comment  and please subscribe!!!!</td>\n",
       "      <td>1</td>\n",
       "    </tr>\n",
       "    <tr>\n",
       "      <td>2</td>\n",
       "      <td>LZQPQhLyRh9MSZYnf8djyk0gEF9BHDPYrrK-qCczIY8</td>\n",
       "      <td>Evgeny Murashkin</td>\n",
       "      <td>2013-11-08T17:34:21</td>\n",
       "      <td>just for test I have to say murdev.com</td>\n",
       "      <td>1</td>\n",
       "    </tr>\n",
       "    <tr>\n",
       "      <td>3</td>\n",
       "      <td>z13jhp0bxqncu512g22wvzkasxmvvzjaz04</td>\n",
       "      <td>ElNino Melendez</td>\n",
       "      <td>2013-11-09T08:28:43</td>\n",
       "      <td>me shaking my sexy ass on my channel enjoy ^_^ ﻿</td>\n",
       "      <td>1</td>\n",
       "    </tr>\n",
       "    <tr>\n",
       "      <td>4</td>\n",
       "      <td>z13fwbwp1oujthgqj04chlngpvzmtt3r3dw</td>\n",
       "      <td>GsMega</td>\n",
       "      <td>2013-11-10T16:05:38</td>\n",
       "      <td>watch?v=vtaRGgvGtWQ   Check this out .﻿</td>\n",
       "      <td>1</td>\n",
       "    </tr>\n",
       "  </tbody>\n",
       "</table>\n",
       "</div>"
      ],
      "text/plain": [
       "                                    COMMENT_ID            AUTHOR  \\\n",
       "0  LZQPQhLyRh80UYxNuaDWhIGQYNQ96IuCg-AYWqNPjpU  Julius NM          \n",
       "1  LZQPQhLyRh_C2cTtd9MvFRJedxydaVW-2sNg5Diuo4A  adam riyati        \n",
       "2  LZQPQhLyRh9MSZYnf8djyk0gEF9BHDPYrrK-qCczIY8  Evgeny Murashkin   \n",
       "3  z13jhp0bxqncu512g22wvzkasxmvvzjaz04          ElNino Melendez    \n",
       "4  z13fwbwp1oujthgqj04chlngpvzmtt3r3dw          GsMega             \n",
       "\n",
       "                  DATE  \\\n",
       "0  2013-11-07T06:20:48   \n",
       "1  2013-11-07T12:37:15   \n",
       "2  2013-11-08T17:34:21   \n",
       "3  2013-11-09T08:28:43   \n",
       "4  2013-11-10T16:05:38   \n",
       "\n",
       "                                                                                                                                                                  CONTENT  \\\n",
       "0  Huh, anyway check out this you[tube] channel: kobyoshi02                                                                                                                 \n",
       "1  Hey guys check out my new channel and our first vid THIS IS US THE  MONKEYS!!! I'm the monkey in the white shirt,please leave a like comment  and please subscribe!!!!   \n",
       "2  just for test I have to say murdev.com                                                                                                                                   \n",
       "3  me shaking my sexy ass on my channel enjoy ^_^ ﻿                                                                                                                         \n",
       "4  watch?v=vtaRGgvGtWQ   Check this out .﻿                                                                                                                                  \n",
       "\n",
       "   CLASS  \n",
       "0  1      \n",
       "1  1      \n",
       "2  1      \n",
       "3  1      \n",
       "4  1      "
      ]
     },
     "execution_count": 7,
     "metadata": {},
     "output_type": "execute_result"
    }
   ],
   "source": [
    "data3.head()"
   ]
  },
  {
   "cell_type": "code",
   "execution_count": 8,
   "metadata": {
    "ExecuteTime": {
     "end_time": "2019-09-24T05:19:32.602362Z",
     "start_time": "2019-09-24T05:19:32.079274Z"
    }
   },
   "outputs": [
    {
     "data": {
      "text/html": [
       "<div>\n",
       "<style scoped>\n",
       "    .dataframe tbody tr th:only-of-type {\n",
       "        vertical-align: middle;\n",
       "    }\n",
       "\n",
       "    .dataframe tbody tr th {\n",
       "        vertical-align: top;\n",
       "    }\n",
       "\n",
       "    .dataframe thead th {\n",
       "        text-align: right;\n",
       "    }\n",
       "</style>\n",
       "<table border=\"1\" class=\"dataframe\">\n",
       "  <thead>\n",
       "    <tr style=\"text-align: right;\">\n",
       "      <th></th>\n",
       "      <th>COMMENT_ID</th>\n",
       "      <th>AUTHOR</th>\n",
       "      <th>DATE</th>\n",
       "      <th>CONTENT</th>\n",
       "      <th>CLASS</th>\n",
       "    </tr>\n",
       "  </thead>\n",
       "  <tbody>\n",
       "    <tr>\n",
       "      <td>0</td>\n",
       "      <td>z12pgdhovmrktzm3i23es5d5junftft3f</td>\n",
       "      <td>lekanaVEVO1</td>\n",
       "      <td>2014-07-22T15:27:50</td>\n",
       "      <td>i love this so much. AND also I Generate Free Leads on Auto Pilot &amp;amp; You Can  Too! http://www.MyLeaderGate.com/moretraffic﻿</td>\n",
       "      <td>1</td>\n",
       "    </tr>\n",
       "    <tr>\n",
       "      <td>1</td>\n",
       "      <td>z13yx345uxepetggz04ci5rjcxeohzlrtf4</td>\n",
       "      <td>Pyunghee</td>\n",
       "      <td>2014-07-27T01:57:16</td>\n",
       "      <td>http://www.billboard.com/articles/columns/pop-shop/6174122/fan-army-face-off-round-3 Vote for SONES please....we're against vips....please help us.. &amp;gt;.&amp;lt;﻿</td>\n",
       "      <td>1</td>\n",
       "    </tr>\n",
       "    <tr>\n",
       "      <td>2</td>\n",
       "      <td>z12lsjvi3wa5x1vwh04cibeaqnzrevxajw00k</td>\n",
       "      <td>Erica Ross</td>\n",
       "      <td>2014-07-27T02:51:43</td>\n",
       "      <td>Hey guys! Please join me in my fight to help abused/mistreated animals! All  fund will go to helping pay for vet bills/and or helping them find homes! I  will place an extra emphasis on helping disabled animals, ones otherwise  would just be put to sleep by other animal organizations. Donate please. http://www.gofundme.com/Angels-n-Wingz﻿</td>\n",
       "      <td>1</td>\n",
       "    </tr>\n",
       "    <tr>\n",
       "      <td>3</td>\n",
       "      <td>z13jcjuovxbwfr0ge04cev2ipsjdfdurwck</td>\n",
       "      <td>Aviel Haimov</td>\n",
       "      <td>2014-08-01T12:27:48</td>\n",
       "      <td>http://psnboss.com/?ref=2tGgp3pV6L this is the song﻿</td>\n",
       "      <td>1</td>\n",
       "    </tr>\n",
       "    <tr>\n",
       "      <td>4</td>\n",
       "      <td>z13qybua2yfydzxzj04cgfpqdt2syfx53ms0k</td>\n",
       "      <td>John Bello</td>\n",
       "      <td>2014-08-01T21:04:03</td>\n",
       "      <td>Hey everyone. Watch this trailer!!!!!!!!  http://believemefilm.com?hlr=h2hQBUVB﻿</td>\n",
       "      <td>1</td>\n",
       "    </tr>\n",
       "  </tbody>\n",
       "</table>\n",
       "</div>"
      ],
      "text/plain": [
       "                              COMMENT_ID        AUTHOR                 DATE  \\\n",
       "0  z12pgdhovmrktzm3i23es5d5junftft3f      lekanaVEVO1   2014-07-22T15:27:50   \n",
       "1  z13yx345uxepetggz04ci5rjcxeohzlrtf4    Pyunghee      2014-07-27T01:57:16   \n",
       "2  z12lsjvi3wa5x1vwh04cibeaqnzrevxajw00k  Erica Ross    2014-07-27T02:51:43   \n",
       "3  z13jcjuovxbwfr0ge04cev2ipsjdfdurwck    Aviel Haimov  2014-08-01T12:27:48   \n",
       "4  z13qybua2yfydzxzj04cgfpqdt2syfx53ms0k  John Bello    2014-08-01T21:04:03   \n",
       "\n",
       "                                                                                                                                                                                                                                                                                                                                                CONTENT  \\\n",
       "0  i love this so much. AND also I Generate Free Leads on Auto Pilot &amp; You Can  Too! http://www.MyLeaderGate.com/moretraffic﻿                                                                                                                                                                                                                         \n",
       "1  http://www.billboard.com/articles/columns/pop-shop/6174122/fan-army-face-off-round-3 Vote for SONES please....we're against vips....please help us.. &gt;.&lt;﻿                                                                                                                                                                                        \n",
       "2  Hey guys! Please join me in my fight to help abused/mistreated animals! All  fund will go to helping pay for vet bills/and or helping them find homes! I  will place an extra emphasis on helping disabled animals, ones otherwise  would just be put to sleep by other animal organizations. Donate please. http://www.gofundme.com/Angels-n-Wingz﻿   \n",
       "3  http://psnboss.com/?ref=2tGgp3pV6L this is the song﻿                                                                                                                                                                                                                                                                                                   \n",
       "4  Hey everyone. Watch this trailer!!!!!!!!  http://believemefilm.com?hlr=h2hQBUVB﻿                                                                                                                                                                                                                                                                       \n",
       "\n",
       "   CLASS  \n",
       "0  1      \n",
       "1  1      \n",
       "2  1      \n",
       "3  1      \n",
       "4  1      "
      ]
     },
     "execution_count": 8,
     "metadata": {},
     "output_type": "execute_result"
    }
   ],
   "source": [
    "data4.head()"
   ]
  },
  {
   "cell_type": "code",
   "execution_count": 9,
   "metadata": {
    "ExecuteTime": {
     "end_time": "2019-09-24T05:19:32.803646Z",
     "start_time": "2019-09-24T05:19:32.608167Z"
    }
   },
   "outputs": [
    {
     "data": {
      "text/html": [
       "<div>\n",
       "<style scoped>\n",
       "    .dataframe tbody tr th:only-of-type {\n",
       "        vertical-align: middle;\n",
       "    }\n",
       "\n",
       "    .dataframe tbody tr th {\n",
       "        vertical-align: top;\n",
       "    }\n",
       "\n",
       "    .dataframe thead th {\n",
       "        text-align: right;\n",
       "    }\n",
       "</style>\n",
       "<table border=\"1\" class=\"dataframe\">\n",
       "  <thead>\n",
       "    <tr style=\"text-align: right;\">\n",
       "      <th></th>\n",
       "      <th>COMMENT_ID</th>\n",
       "      <th>AUTHOR</th>\n",
       "      <th>DATE</th>\n",
       "      <th>CONTENT</th>\n",
       "      <th>CLASS</th>\n",
       "    </tr>\n",
       "  </thead>\n",
       "  <tbody>\n",
       "    <tr>\n",
       "      <td>0</td>\n",
       "      <td>z13uwn2heqndtr5g304ccv5j5kqqzxjadmc0k</td>\n",
       "      <td>Corey Wilson</td>\n",
       "      <td>2015-05-28T21:39:52.376000</td>\n",
       "      <td>&lt;a href=\"http://www.youtube.com/watch?v=KQ6zr6kCPj8&amp;amp;t=2m19s\"&gt;2:19&lt;/a&gt; best part﻿</td>\n",
       "      <td>0</td>\n",
       "    </tr>\n",
       "    <tr>\n",
       "      <td>1</td>\n",
       "      <td>z124jvczaz3dxhnbc04cffk43oiugj25yzo0k</td>\n",
       "      <td>Epic Gaming</td>\n",
       "      <td>2015-05-28T20:07:20.610000</td>\n",
       "      <td>wierd but funny﻿</td>\n",
       "      <td>0</td>\n",
       "    </tr>\n",
       "    <tr>\n",
       "      <td>2</td>\n",
       "      <td>z13tczjy5xj0vjmu5231unho1ofey5zdk</td>\n",
       "      <td>LaS Music</td>\n",
       "      <td>2015-05-28T19:23:35.355000</td>\n",
       "      <td>Hey guys, I&amp;#39;m a human.&lt;br /&gt;&lt;br /&gt;&lt;br /&gt;But I don&amp;#39;t want to be a human, I want to be a sexy fucking giraffe.&lt;br /&gt;&lt;br /&gt;&lt;br /&gt;I already have the money for the surgery to elongate my spinal core, the surgery to change my skin pigment, and everything else! Like this post so others can root me on in my dream!!!!&lt;br /&gt;&lt;br /&gt;&lt;br /&gt;Im fucking with you, I make music, check out my first song! &lt;a rel=\"nofollow\" class=\"ot-hashtag\" href=\"https://plus.google.com/s/%23giraffebruuh\"&gt;#giraffebruuh&lt;/a&gt;﻿</td>\n",
       "      <td>1</td>\n",
       "    </tr>\n",
       "    <tr>\n",
       "      <td>3</td>\n",
       "      <td>z13tzr0hdpnayhqqc04cd3zqqqjkf3ngckk0k</td>\n",
       "      <td>Cheryl Fox</td>\n",
       "      <td>2015-05-28T17:49:35.294000</td>\n",
       "      <td>Party Rock....lol...who wants to shuffle!!!﻿</td>\n",
       "      <td>0</td>\n",
       "    </tr>\n",
       "    <tr>\n",
       "      <td>4</td>\n",
       "      <td>z12pcvix4zedcjvyb04ccr1r0mr2g5xwyng0k</td>\n",
       "      <td>PATRICK_TW</td>\n",
       "      <td>2015-05-28T16:28:26.818000</td>\n",
       "      <td>Party rock﻿</td>\n",
       "      <td>0</td>\n",
       "    </tr>\n",
       "  </tbody>\n",
       "</table>\n",
       "</div>"
      ],
      "text/plain": [
       "                              COMMENT_ID        AUTHOR  \\\n",
       "0  z13uwn2heqndtr5g304ccv5j5kqqzxjadmc0k  Corey Wilson   \n",
       "1  z124jvczaz3dxhnbc04cffk43oiugj25yzo0k  Epic Gaming    \n",
       "2  z13tczjy5xj0vjmu5231unho1ofey5zdk      LaS Music      \n",
       "3  z13tzr0hdpnayhqqc04cd3zqqqjkf3ngckk0k  Cheryl Fox     \n",
       "4  z12pcvix4zedcjvyb04ccr1r0mr2g5xwyng0k  PATRICK_TW     \n",
       "\n",
       "                         DATE  \\\n",
       "0  2015-05-28T21:39:52.376000   \n",
       "1  2015-05-28T20:07:20.610000   \n",
       "2  2015-05-28T19:23:35.355000   \n",
       "3  2015-05-28T17:49:35.294000   \n",
       "4  2015-05-28T16:28:26.818000   \n",
       "\n",
       "                                                                                                                                                                                                                                                                                                                                                                                                                                                                                                                CONTENT  \\\n",
       "0  <a href=\"http://www.youtube.com/watch?v=KQ6zr6kCPj8&amp;t=2m19s\">2:19</a> best part﻿                                                                                                                                                                                                                                                                                                                                                                                                                                   \n",
       "1  wierd but funny﻿                                                                                                                                                                                                                                                                                                                                                                                                                                                                                                       \n",
       "2  Hey guys, I&#39;m a human.<br /><br /><br />But I don&#39;t want to be a human, I want to be a sexy fucking giraffe.<br /><br /><br />I already have the money for the surgery to elongate my spinal core, the surgery to change my skin pigment, and everything else! Like this post so others can root me on in my dream!!!!<br /><br /><br />Im fucking with you, I make music, check out my first song! <a rel=\"nofollow\" class=\"ot-hashtag\" href=\"https://plus.google.com/s/%23giraffebruuh\">#giraffebruuh</a>﻿   \n",
       "3  Party Rock....lol...who wants to shuffle!!!﻿                                                                                                                                                                                                                                                                                                                                                                                                                                                                           \n",
       "4  Party rock﻿                                                                                                                                                                                                                                                                                                                                                                                                                                                                                                            \n",
       "\n",
       "   CLASS  \n",
       "0  0      \n",
       "1  0      \n",
       "2  1      \n",
       "3  0      \n",
       "4  0      "
      ]
     },
     "execution_count": 9,
     "metadata": {},
     "output_type": "execute_result"
    }
   ],
   "source": [
    "data5.head()"
   ]
  },
  {
   "cell_type": "code",
   "execution_count": 10,
   "metadata": {
    "ExecuteTime": {
     "end_time": "2019-09-24T05:19:33.007100Z",
     "start_time": "2019-09-24T05:19:32.806636Z"
    }
   },
   "outputs": [
    {
     "data": {
      "text/html": [
       "<div>\n",
       "<style scoped>\n",
       "    .dataframe tbody tr th:only-of-type {\n",
       "        vertical-align: middle;\n",
       "    }\n",
       "\n",
       "    .dataframe tbody tr th {\n",
       "        vertical-align: top;\n",
       "    }\n",
       "\n",
       "    .dataframe thead th {\n",
       "        text-align: right;\n",
       "    }\n",
       "</style>\n",
       "<table border=\"1\" class=\"dataframe\">\n",
       "  <thead>\n",
       "    <tr style=\"text-align: right;\">\n",
       "      <th></th>\n",
       "      <th>COMMENT_ID</th>\n",
       "      <th>AUTHOR</th>\n",
       "      <th>DATE</th>\n",
       "      <th>CONTENT</th>\n",
       "      <th>CLASS</th>\n",
       "    </tr>\n",
       "  </thead>\n",
       "  <tbody>\n",
       "    <tr>\n",
       "      <td>0</td>\n",
       "      <td>z12rwfnyyrbsefonb232i5ehdxzkjzjs2</td>\n",
       "      <td>Lisa Wellas</td>\n",
       "      <td>NaN</td>\n",
       "      <td>+447935454150 lovely girl talk to me xxx﻿</td>\n",
       "      <td>1</td>\n",
       "    </tr>\n",
       "    <tr>\n",
       "      <td>1</td>\n",
       "      <td>z130wpnwwnyuetxcn23xf5k5ynmkdpjrj04</td>\n",
       "      <td>jason graham</td>\n",
       "      <td>2015-05-29T02:26:10.652000</td>\n",
       "      <td>I always end up coming back to this song&lt;br /&gt;﻿</td>\n",
       "      <td>0</td>\n",
       "    </tr>\n",
       "    <tr>\n",
       "      <td>2</td>\n",
       "      <td>z13vsfqirtavjvu0t22ezrgzyorwxhpf3</td>\n",
       "      <td>Ajkal Khan</td>\n",
       "      <td>NaN</td>\n",
       "      <td>my sister just received over 6,500 new &lt;a rel=\"nofollow\" class=\"ot-hashtag\" href=\"https://plus.google.com/s/%23active\"&gt;#active&lt;/a&gt; youtube views Right now. The only thing she used was pimpmyviews. com﻿</td>\n",
       "      <td>1</td>\n",
       "    </tr>\n",
       "    <tr>\n",
       "      <td>3</td>\n",
       "      <td>z12wjzc4eprnvja4304cgbbizuved35wxcs</td>\n",
       "      <td>Dakota Taylor</td>\n",
       "      <td>2015-05-29T02:13:07.810000</td>\n",
       "      <td>Cool﻿</td>\n",
       "      <td>0</td>\n",
       "    </tr>\n",
       "    <tr>\n",
       "      <td>4</td>\n",
       "      <td>z13xjfr42z3uxdz2223gx5rrzs3dt5hna</td>\n",
       "      <td>Jihad Naser</td>\n",
       "      <td>NaN</td>\n",
       "      <td>Hello I&amp;#39;am from Palastine﻿</td>\n",
       "      <td>1</td>\n",
       "    </tr>\n",
       "  </tbody>\n",
       "</table>\n",
       "</div>"
      ],
      "text/plain": [
       "                            COMMENT_ID         AUTHOR  \\\n",
       "0  z12rwfnyyrbsefonb232i5ehdxzkjzjs2    Lisa Wellas     \n",
       "1  z130wpnwwnyuetxcn23xf5k5ynmkdpjrj04  jason graham    \n",
       "2  z13vsfqirtavjvu0t22ezrgzyorwxhpf3    Ajkal Khan      \n",
       "3  z12wjzc4eprnvja4304cgbbizuved35wxcs  Dakota Taylor   \n",
       "4  z13xjfr42z3uxdz2223gx5rrzs3dt5hna    Jihad Naser     \n",
       "\n",
       "                         DATE  \\\n",
       "0  NaN                          \n",
       "1  2015-05-29T02:26:10.652000   \n",
       "2  NaN                          \n",
       "3  2015-05-29T02:13:07.810000   \n",
       "4  NaN                          \n",
       "\n",
       "                                                                                                                                                                                                     CONTENT  \\\n",
       "0  +447935454150 lovely girl talk to me xxx﻿                                                                                                                                                                   \n",
       "1  I always end up coming back to this song<br />﻿                                                                                                                                                             \n",
       "2  my sister just received over 6,500 new <a rel=\"nofollow\" class=\"ot-hashtag\" href=\"https://plus.google.com/s/%23active\">#active</a> youtube views Right now. The only thing she used was pimpmyviews. com﻿   \n",
       "3  Cool﻿                                                                                                                                                                                                       \n",
       "4  Hello I&#39;am from Palastine﻿                                                                                                                                                                              \n",
       "\n",
       "   CLASS  \n",
       "0  1      \n",
       "1  0      \n",
       "2  1      \n",
       "3  0      \n",
       "4  1      "
      ]
     },
     "execution_count": 10,
     "metadata": {},
     "output_type": "execute_result"
    }
   ],
   "source": [
    "data6.head()"
   ]
  },
  {
   "cell_type": "code",
   "execution_count": 11,
   "metadata": {
    "ExecuteTime": {
     "end_time": "2019-09-24T05:19:33.166730Z",
     "start_time": "2019-09-24T05:19:33.010091Z"
    }
   },
   "outputs": [
    {
     "data": {
      "text/html": [
       "<div>\n",
       "<style scoped>\n",
       "    .dataframe tbody tr th:only-of-type {\n",
       "        vertical-align: middle;\n",
       "    }\n",
       "\n",
       "    .dataframe tbody tr th {\n",
       "        vertical-align: top;\n",
       "    }\n",
       "\n",
       "    .dataframe thead th {\n",
       "        text-align: right;\n",
       "    }\n",
       "</style>\n",
       "<table border=\"1\" class=\"dataframe\">\n",
       "  <thead>\n",
       "    <tr style=\"text-align: right;\">\n",
       "      <th></th>\n",
       "      <th>COMMENT_ID</th>\n",
       "      <th>AUTHOR</th>\n",
       "      <th>DATE</th>\n",
       "      <th>CONTENT</th>\n",
       "      <th>CLASS</th>\n",
       "    </tr>\n",
       "  </thead>\n",
       "  <tbody>\n",
       "    <tr>\n",
       "      <td>0</td>\n",
       "      <td>z13lgffb5w3ddx1ul22qy1wxspy5cpkz504</td>\n",
       "      <td>dharma pal</td>\n",
       "      <td>2015-05-29T02:30:18.971000</td>\n",
       "      <td>Nice song﻿</td>\n",
       "      <td>0</td>\n",
       "    </tr>\n",
       "    <tr>\n",
       "      <td>1</td>\n",
       "      <td>z123dbgb0mqjfxbtz22ucjc5jvzcv3ykj</td>\n",
       "      <td>Tiza Arellano</td>\n",
       "      <td>2015-05-29T00:14:48.748000</td>\n",
       "      <td>I love song ﻿</td>\n",
       "      <td>0</td>\n",
       "    </tr>\n",
       "    <tr>\n",
       "      <td>2</td>\n",
       "      <td>z12quxxp2vutflkxv04cihggzt2azl34pms0k</td>\n",
       "      <td>Prìñçeśś Âliś Łøvê Dømíñø Mâđiś™ ﻿</td>\n",
       "      <td>2015-05-28T21:00:08.607000</td>\n",
       "      <td>I love song ﻿</td>\n",
       "      <td>0</td>\n",
       "    </tr>\n",
       "    <tr>\n",
       "      <td>3</td>\n",
       "      <td>z12icv3ysqvlwth2c23eddlykyqut5z1h</td>\n",
       "      <td>Eric Gonzalez</td>\n",
       "      <td>2015-05-28T20:47:12.193000</td>\n",
       "      <td>860,000,000 lets make it first female to reach one billion!! Share it and replay it! ﻿</td>\n",
       "      <td>0</td>\n",
       "    </tr>\n",
       "    <tr>\n",
       "      <td>4</td>\n",
       "      <td>z133stly3kete3tly22petvwdpmghrlli</td>\n",
       "      <td>Analena López</td>\n",
       "      <td>2015-05-28T17:08:29.827000</td>\n",
       "      <td>shakira is best for worldcup﻿</td>\n",
       "      <td>0</td>\n",
       "    </tr>\n",
       "  </tbody>\n",
       "</table>\n",
       "</div>"
      ],
      "text/plain": [
       "                              COMMENT_ID                              AUTHOR  \\\n",
       "0  z13lgffb5w3ddx1ul22qy1wxspy5cpkz504    dharma pal                           \n",
       "1  z123dbgb0mqjfxbtz22ucjc5jvzcv3ykj      Tiza Arellano                        \n",
       "2  z12quxxp2vutflkxv04cihggzt2azl34pms0k  Prìñçeśś Âliś Łøvê Dømíñø Mâđiś™ ﻿   \n",
       "3  z12icv3ysqvlwth2c23eddlykyqut5z1h      Eric Gonzalez                        \n",
       "4  z133stly3kete3tly22petvwdpmghrlli      Analena López                        \n",
       "\n",
       "                         DATE  \\\n",
       "0  2015-05-29T02:30:18.971000   \n",
       "1  2015-05-29T00:14:48.748000   \n",
       "2  2015-05-28T21:00:08.607000   \n",
       "3  2015-05-28T20:47:12.193000   \n",
       "4  2015-05-28T17:08:29.827000   \n",
       "\n",
       "                                                                                  CONTENT  \\\n",
       "0  Nice song﻿                                                                               \n",
       "1  I love song ﻿                                                                            \n",
       "2  I love song ﻿                                                                            \n",
       "3  860,000,000 lets make it first female to reach one billion!! Share it and replay it! ﻿   \n",
       "4  shakira is best for worldcup﻿                                                            \n",
       "\n",
       "   CLASS  \n",
       "0  0      \n",
       "1  0      \n",
       "2  0      \n",
       "3  0      \n",
       "4  0      "
      ]
     },
     "execution_count": 11,
     "metadata": {},
     "output_type": "execute_result"
    }
   ],
   "source": [
    "data7.head()"
   ]
  },
  {
   "cell_type": "markdown",
   "metadata": {},
   "source": [
    "## Integration"
   ]
  },
  {
   "cell_type": "code",
   "execution_count": 12,
   "metadata": {
    "ExecuteTime": {
     "end_time": "2019-09-24T05:19:33.319264Z",
     "start_time": "2019-09-24T05:19:33.169665Z"
    }
   },
   "outputs": [],
   "source": [
    "data = pd.DataFrame(columns=['Text', 'Spam'])"
   ]
  },
  {
   "cell_type": "code",
   "execution_count": 13,
   "metadata": {
    "ExecuteTime": {
     "end_time": "2019-09-24T05:22:53.909252Z",
     "start_time": "2019-09-24T05:19:33.323278Z"
    }
   },
   "outputs": [
    {
     "name": "stdout",
     "output_type": "stream",
     "text": [
      "Done\n"
     ]
    }
   ],
   "source": [
    "for i in range(len(data1)):\n",
    "    print('Data 1:', i+1,'/', len(data1))\n",
    "    data = pd.concat([data, pd.DataFrame({\n",
    "        'Text': [data1['text'][i].replace('Subject: ', '')],\n",
    "        'Spam': [data1['spam'][i]]\n",
    "    })])\n",
    "    clear_output(wait=True)\n",
    "\n",
    "for i in range(len(data2)):\n",
    "    print('Data 2:', i+1,'/', len(data2))\n",
    "    data = pd.concat([data, pd.DataFrame({\n",
    "        'Text': [data2['message'][i]],\n",
    "        'Spam': [int(data2['label'][i] == 'spam')]\n",
    "    })])\n",
    "    clear_output(wait=True)\n",
    "\n",
    "for i in range(len(data3)):\n",
    "    print('Data 3:', i+1,'/', len(data3))\n",
    "    data = pd.concat([data, pd.DataFrame({\n",
    "        'Text': [data3['CONTENT'][i]],\n",
    "        'Spam': [data3['CLASS'][i]]\n",
    "    })])\n",
    "    clear_output(wait=True)\n",
    "\n",
    "for i in range(len(data4)):\n",
    "    print('Data 4:', i+1,'/', len(data4))\n",
    "    data = pd.concat([data, pd.DataFrame({\n",
    "        'Text': [data4['CONTENT'][i]],\n",
    "        'Spam': [data4['CLASS'][i]]\n",
    "    })])\n",
    "    clear_output(wait=True)\n",
    "    \n",
    "for i in range(len(data5)):\n",
    "    print('Data 5:', i+1,'/', len(data5))\n",
    "    data = pd.concat([data, pd.DataFrame({\n",
    "        'Text': [data5['CONTENT'][i]],\n",
    "        'Spam': [data5['CLASS'][i]]\n",
    "    })])\n",
    "    clear_output(wait=True)\n",
    "\n",
    "for i in range(len(data6)):\n",
    "    print('Data 6:', i+1,'/', len(data6))\n",
    "    data = pd.concat([data, pd.DataFrame({\n",
    "        'Text': [data6['CONTENT'][i]],\n",
    "        'Spam': [data6['CLASS'][i]]\n",
    "    })])\n",
    "    clear_output(wait=True)    \n",
    "\n",
    "for i in range(len(data7)):\n",
    "    print('Data 7:', i+1,'/', len(data7))\n",
    "    data = pd.concat([data, pd.DataFrame({\n",
    "        'Text': [data7['CONTENT'][i]],\n",
    "        'Spam': [data7['CLASS'][i]]\n",
    "    })])\n",
    "    clear_output(wait=True)\n",
    "print('Done')"
   ]
  },
  {
   "cell_type": "code",
   "execution_count": 14,
   "metadata": {
    "ExecuteTime": {
     "end_time": "2019-09-24T05:22:54.615518Z",
     "start_time": "2019-09-24T05:22:53.911809Z"
    }
   },
   "outputs": [
    {
     "name": "stdout",
     "output_type": "stream",
     "text": [
      "0    4360\n",
      "1    1368\n",
      "Name: spam, dtype: int64\n",
      "ham     4825\n",
      "spam    747 \n",
      "Name: label, dtype: int64\n",
      "1    175\n",
      "0    175\n",
      "Name: CLASS, dtype: int64\n",
      "1    175\n",
      "0    175\n",
      "Name: CLASS, dtype: int64\n",
      "1    236\n",
      "0    202\n",
      "Name: CLASS, dtype: int64\n",
      "1    245\n",
      "0    203\n",
      "Name: CLASS, dtype: int64\n",
      "0    196\n",
      "1    174\n",
      "Name: CLASS, dtype: int64\n",
      "0    10136\n",
      "1    3120 \n",
      "Name: Spam, dtype: int64\n"
     ]
    },
    {
     "data": {
      "text/plain": [
       "<matplotlib.axes._subplots.AxesSubplot at 0x26ff17151d0>"
      ]
     },
     "execution_count": 14,
     "metadata": {},
     "output_type": "execute_result"
    },
    {
     "data": {
      "image/png": "[encoded data removed]",
      "text/plain": [
       "<Figure size 432x288 with 1 Axes>"
      ]
     },
     "metadata": {},
     "output_type": "display_data"
    }
   ],
   "source": [
    "print(data1['spam'].value_counts())\n",
    "print(data2['label'].value_counts())\n",
    "print(data3['CLASS'].value_counts())\n",
    "print(data4['CLASS'].value_counts())\n",
    "print(data5['CLASS'].value_counts())\n",
    "print(data6['CLASS'].value_counts())\n",
    "print(data7['CLASS'].value_counts())\n",
    "print(data['Spam'].value_counts())\n",
    "data['Spam'].value_counts().plot.pie()"
   ]
  },
  {
   "cell_type": "markdown",
   "metadata": {},
   "source": [
    "# Text Cleaning"
   ]
  },
  {
   "cell_type": "code",
   "execution_count": 15,
   "metadata": {
    "ExecuteTime": {
     "end_time": "2019-09-24T05:22:57.055414Z",
     "start_time": "2019-09-24T05:22:54.618502Z"
    }
   },
   "outputs": [],
   "source": [
    "import nltk, re\n",
    "from nltk.stem.porter import PorterStemmer\n",
    "from nltk.stem import WordNetLemmatizer\n",
    "import langdetect\n",
    "\n",
    "def spell_correct(text):\n",
    "    text = re.sub(r\"can\\'t\", \"can not\", text)\n",
    "    text = re.sub(r\"what's\", \"what is \", text) \n",
    "    text = re.sub(r\"\\'s\", \" \", text)\n",
    "    text = re.sub(r\"\\'ve\", \" have \", text)\n",
    "    text = re.sub(r\"n't\", \" not \", text)\n",
    "    text = re.sub(r\"i'm\", \"i am \", text)\n",
    "    text = re.sub(r\"\\'re\", \" are \", text)\n",
    "    text = re.sub(r\"\\'d\", \" would \", text)\n",
    "    text = re.sub(r\"\\'ll\", \" will \", text)\n",
    "    text = re.sub(r\"\\0s\", \"0\", text)    \n",
    "    return text\n",
    "\n",
    "def remove_url(text):\n",
    "    URL_REGEX = re.compile(r'''((http[s]?://)[^ <>'\"{}|\\\\^`[\\]]*)''')\n",
    "    return URL_REGEX.sub(r' ', text)\n",
    "\n",
    "def remove_handles(text):\n",
    "    HANDLES_REGEX = re.compile(r'@\\S+')\n",
    "    return HANDLES_REGEX.sub(r' ', text)\n",
    "\n",
    "def remove_incomplete_last_word(text):\n",
    "    INCOMPLETE_LAST_WORD_REGEX = re.compile(r'\\S+…')\n",
    "    return INCOMPLETE_LAST_WORD_REGEX.sub(r' ', text )\n",
    "\n",
    "remove_punc = lambda x : re.sub(r\"\\W\", ' ', x)\n",
    "\n",
    "remove_num = lambda x : re.sub(r\"\\d\", ' ', x)\n",
    "\n",
    "remove_extra_spaces = lambda x : re.sub(r\"\\s+\", ' ', x)\n",
    "\n",
    "remove_shortwords = lambda x: ' '.join(word for word in x.split() if len(word) > 2)\n",
    "\n",
    "lower_case = lambda x : x.lower()\n",
    "\n",
    "with open('stopwords.txt') as f:\n",
    "    sw = map(lambda x : x.strip(), f.readlines())\n",
    "stop_words = set(nltk.corpus.stopwords.words('english'))|set(sw)\n",
    "remove_stopwords = lambda x: ' '.join(word for word in x.split() if word not in stop_words)\n",
    "\n",
    "ps = PorterStemmer()\n",
    "ps_stem = lambda x: ' '.join(ps.stem(word) for word in x.split())\n",
    "\n",
    "wnl = WordNetLemmatizer()\n",
    "wnl_lemmatize = lambda x: ' '.join(wnl.lemmatize(word) for word in x.split())\n",
    "\n",
    "def tag_pos(x):\n",
    "    tag_list =  nltk.pos_tag(nltk.word_tokenize(x))\n",
    "    pos = \"\"\n",
    "    for t in tag_list:\n",
    "        pos += t[0] +'(' + t[1] +')' + ' '\n",
    "    return pos\n",
    "\n",
    "def cleanText(x, rsw, stm, lem, tgps):\n",
    "    x = str(x)\n",
    "    x = remove_url(x)\n",
    "    x = lower_case(x)\n",
    "    x = spell_correct(x)\n",
    "    x = remove_punc(x)\n",
    "    x = remove_num(x)\n",
    "    x = remove_extra_spaces(x)\n",
    "    x = remove_shortwords(x)\n",
    "    \n",
    "    if rsw:\n",
    "        x = remove_stopwords(x)\n",
    "    if stm:\n",
    "        x = ps_stem(x)\n",
    "    if lem:\n",
    "        x = wnl_lemmatize(x)\n",
    "    if tgps:\n",
    "        x = tag_pos(x)\n",
    "    return x"
   ]
  },
  {
   "cell_type": "code",
   "execution_count": 16,
   "metadata": {
    "ExecuteTime": {
     "end_time": "2019-09-24T05:23:01.794304Z",
     "start_time": "2019-09-24T05:22:57.058981Z"
    }
   },
   "outputs": [],
   "source": [
    "data['Text'] = data['Text'].apply(lambda x : cleanText(x, True, False, False, False))"
   ]
  },
  {
   "cell_type": "code",
   "execution_count": 17,
   "metadata": {
    "ExecuteTime": {
     "end_time": "2019-09-24T05:23:01.925952Z",
     "start_time": "2019-09-24T05:23:01.798087Z"
    }
   },
   "outputs": [
    {
     "data": {
      "text/plain": [
       "com            1171\n",
       "please         882 \n",
       "free           877 \n",
       "business       846 \n",
       "company        811 \n",
       "email          809 \n",
       "money          754 \n",
       "information    750 \n",
       "get            748 \n",
       "new            692 \n",
       "check          675 \n",
       "one            629 \n",
       "http           603 \n",
       "make           590 \n",
       "mail           587 \n",
       "time           583 \n",
       "click          562 \n",
       "like           525 \n",
       "www            520 \n",
       "website        503 \n",
       "dtype: int64"
      ]
     },
     "execution_count": 17,
     "metadata": {},
     "output_type": "execute_result"
    }
   ],
   "source": [
    "pd.Series(' '.join(data[data['Spam'] == 1]['Text']).split()).value_counts()[:20]"
   ]
  },
  {
   "cell_type": "code",
   "execution_count": 18,
   "metadata": {
    "ExecuteTime": {
     "end_time": "2019-09-24T05:24:38.085562Z",
     "start_time": "2019-09-24T05:23:01.928944Z"
    }
   },
   "outputs": [
    {
     "data": {
      "image/png": "[encoded data removed]",
      "text/plain": [
       "<Figure size 576x576 with 1 Axes>"
      ]
     },
     "metadata": {
      "needs_background": "light"
     },
     "output_type": "display_data"
    }
   ],
   "source": [
    "from wordcloud import WordCloud, STOPWORDS\n",
    "from PIL import Image\n",
    "\n",
    "def df2corpus(df):\n",
    "    corpus = ''\n",
    "    for x in df:\n",
    "        corpus += str(x) + '\\n'\n",
    "    return corpus\n",
    "\n",
    "def buildWordCloud():\n",
    "    wordcloud = WordCloud(width = 4500, height = 4500, \n",
    "                          background_color ='black', stopwords = stop_words, min_font_size = 10, \n",
    "                          max_words = 50).generate(df2corpus(data[data['Spam'] == 1]['Text']))\n",
    "    plt.figure(figsize = (8, 8), facecolor = None)\n",
    "    plt.imshow(wordcloud)\n",
    "    plt.axis(\"off\")\n",
    "    plt.tight_layout(pad = 0)\n",
    "    plt.show()\n",
    "    \n",
    "buildWordCloud()"
   ]
  },
  {
   "cell_type": "markdown",
   "metadata": {},
   "source": [
    "# Vectorizisation"
   ]
  },
  {
   "cell_type": "code",
   "execution_count": 19,
   "metadata": {
    "ExecuteTime": {
     "end_time": "2019-09-24T05:24:38.093514Z",
     "start_time": "2019-09-24T05:24:38.089056Z"
    }
   },
   "outputs": [],
   "source": [
    "from sklearn.feature_extraction.text import TfidfVectorizer"
   ]
  },
  {
   "cell_type": "code",
   "execution_count": 20,
   "metadata": {
    "ExecuteTime": {
     "end_time": "2019-09-24T05:24:39.939123Z",
     "start_time": "2019-09-24T05:24:38.097099Z"
    }
   },
   "outputs": [],
   "source": [
    "vectorizer = TfidfVectorizer()\n",
    "vector = vectorizer.fit_transform(data['Text'])"
   ]
  },
  {
   "cell_type": "code",
   "execution_count": 21,
   "metadata": {
    "ExecuteTime": {
     "end_time": "2019-09-24T05:24:39.952064Z",
     "start_time": "2019-09-24T05:24:39.942090Z"
    }
   },
   "outputs": [],
   "source": [
    "y=data['Spam'].astype('int')"
   ]
  },
  {
   "cell_type": "markdown",
   "metadata": {},
   "source": [
    "# Machine Learning"
   ]
  },
  {
   "cell_type": "code",
   "execution_count": 22,
   "metadata": {
    "ExecuteTime": {
     "end_time": "2019-09-24T05:24:40.090102Z",
     "start_time": "2019-09-24T05:24:39.956051Z"
    }
   },
   "outputs": [],
   "source": [
    "from sklearn.model_selection import train_test_split"
   ]
  },
  {
   "cell_type": "code",
   "execution_count": 23,
   "metadata": {
    "ExecuteTime": {
     "end_time": "2019-09-24T05:24:40.272360Z",
     "start_time": "2019-09-24T05:24:40.111759Z"
    }
   },
   "outputs": [],
   "source": [
    "X_train, X_test, y_train, y_test = train_test_split(vector, y, test_size=0.3)"
   ]
  },
  {
   "cell_type": "code",
   "execution_count": 24,
   "metadata": {
    "ExecuteTime": {
     "end_time": "2019-09-24T05:24:40.386034Z",
     "start_time": "2019-09-24T05:24:40.282302Z"
    }
   },
   "outputs": [],
   "source": [
    "from sklearn.metrics import classification_report, confusion_matrix"
   ]
  },
  {
   "cell_type": "markdown",
   "metadata": {},
   "source": [
    "## Multinomial NB"
   ]
  },
  {
   "cell_type": "code",
   "execution_count": 25,
   "metadata": {
    "ExecuteTime": {
     "end_time": "2019-09-24T05:24:40.741073Z",
     "start_time": "2019-09-24T05:24:40.395003Z"
    }
   },
   "outputs": [],
   "source": [
    "from sklearn.naive_bayes import MultinomialNB"
   ]
  },
  {
   "cell_type": "code",
   "execution_count": 26,
   "metadata": {
    "ExecuteTime": {
     "end_time": "2019-09-24T05:24:40.795926Z",
     "start_time": "2019-09-24T05:24:40.745064Z"
    }
   },
   "outputs": [
    {
     "name": "stdout",
     "output_type": "stream",
     "text": [
      "[[3039  388]\n",
      " [   7  543]]\n",
      "              precision    recall  f1-score   support\n",
      "\n",
      "           0       1.00      0.89      0.94      3427\n",
      "           1       0.58      0.99      0.73       550\n",
      "\n",
      "   micro avg       0.90      0.90      0.90      3977\n",
      "   macro avg       0.79      0.94      0.84      3977\n",
      "weighted avg       0.94      0.90      0.91      3977\n",
      "\n"
     ]
    }
   ],
   "source": [
    "model = MultinomialNB()\n",
    "model.fit(X_train, y_train)\n",
    "y_pred = model.predict(X_test)\n",
    "\n",
    "print(confusion_matrix(y_pred, y_test))\n",
    "print(classification_report(y_pred, y_test))"
   ]
  },
  {
   "cell_type": "markdown",
   "metadata": {},
   "source": [
    "## Logistic Regression"
   ]
  },
  {
   "cell_type": "code",
   "execution_count": 27,
   "metadata": {
    "ExecuteTime": {
     "end_time": "2019-09-24T05:24:40.884687Z",
     "start_time": "2019-09-24T05:24:40.799356Z"
    }
   },
   "outputs": [],
   "source": [
    "from sklearn.linear_model import LogisticRegression"
   ]
  },
  {
   "cell_type": "code",
   "execution_count": 28,
   "metadata": {
    "ExecuteTime": {
     "end_time": "2019-09-24T05:24:41.358368Z",
     "start_time": "2019-09-24T05:24:40.889446Z"
    }
   },
   "outputs": [
    {
     "name": "stderr",
     "output_type": "stream",
     "text": [
      "D:\\Users\\Ritvik\\Anaconda3\\envs\\datascience\\lib\\site-packages\\sklearn\\linear_model\\logistic.py:433: FutureWarning: Default solver will be changed to 'lbfgs' in 0.22. Specify a solver to silence this warning.\n",
      "  FutureWarning)\n"
     ]
    },
    {
     "name": "stdout",
     "output_type": "stream",
     "text": [
      "[[3010  215]\n",
      " [  36  716]]\n",
      "              precision    recall  f1-score   support\n",
      "\n",
      "           0       0.99      0.93      0.96      3225\n",
      "           1       0.77      0.95      0.85       752\n",
      "\n",
      "   micro avg       0.94      0.94      0.94      3977\n",
      "   macro avg       0.88      0.94      0.91      3977\n",
      "weighted avg       0.95      0.94      0.94      3977\n",
      "\n"
     ]
    }
   ],
   "source": [
    "model = LogisticRegression()\n",
    "model.fit(X_train, y_train)\n",
    "y_pred = model.predict(X_test)\n",
    "\n",
    "print(confusion_matrix(y_pred, y_test))\n",
    "print(classification_report(y_pred, y_test))"
   ]
  },
  {
   "cell_type": "markdown",
   "metadata": {},
   "source": [
    "## Decision Tree"
   ]
  },
  {
   "cell_type": "code",
   "execution_count": 29,
   "metadata": {
    "ExecuteTime": {
     "end_time": "2019-09-24T05:24:41.383329Z",
     "start_time": "2019-09-24T05:24:41.361996Z"
    }
   },
   "outputs": [],
   "source": [
    "from sklearn.tree import DecisionTreeClassifier"
   ]
  },
  {
   "cell_type": "code",
   "execution_count": 30,
   "metadata": {
    "ExecuteTime": {
     "end_time": "2019-09-24T05:24:46.752875Z",
     "start_time": "2019-09-24T05:24:41.386342Z"
    }
   },
   "outputs": [
    {
     "name": "stdout",
     "output_type": "stream",
     "text": [
      "[[2911  126]\n",
      " [ 135  805]]\n",
      "              precision    recall  f1-score   support\n",
      "\n",
      "           0       0.96      0.96      0.96      3037\n",
      "           1       0.86      0.86      0.86       940\n",
      "\n",
      "   micro avg       0.93      0.93      0.93      3977\n",
      "   macro avg       0.91      0.91      0.91      3977\n",
      "weighted avg       0.93      0.93      0.93      3977\n",
      "\n"
     ]
    }
   ],
   "source": [
    "model = DecisionTreeClassifier()\n",
    "model.fit(X_train, y_train)\n",
    "y_pred = model.predict(X_test)\n",
    "\n",
    "print(confusion_matrix(y_pred, y_test))\n",
    "print(classification_report(y_pred, y_test))"
   ]
  },
  {
   "cell_type": "markdown",
   "metadata": {},
   "source": [
    "## Voting Classifier"
   ]
  },
  {
   "cell_type": "code",
   "execution_count": 31,
   "metadata": {
    "ExecuteTime": {
     "end_time": "2019-09-24T05:24:46.794843Z",
     "start_time": "2019-09-24T05:24:46.758766Z"
    }
   },
   "outputs": [],
   "source": [
    "from sklearn.ensemble import VotingClassifier"
   ]
  },
  {
   "cell_type": "code",
   "execution_count": 32,
   "metadata": {
    "ExecuteTime": {
     "end_time": "2019-09-24T05:24:52.447356Z",
     "start_time": "2019-09-24T05:24:46.798657Z"
    }
   },
   "outputs": [
    {
     "name": "stderr",
     "output_type": "stream",
     "text": [
      "D:\\Users\\Ritvik\\Anaconda3\\envs\\datascience\\lib\\site-packages\\sklearn\\linear_model\\logistic.py:433: FutureWarning: Default solver will be changed to 'lbfgs' in 0.22. Specify a solver to silence this warning.\n",
      "  FutureWarning)\n"
     ]
    },
    {
     "name": "stdout",
     "output_type": "stream",
     "text": [
      "[[3028  211]\n",
      " [  18  720]]\n",
      "              precision    recall  f1-score   support\n",
      "\n",
      "           0       0.99      0.93      0.96      3239\n",
      "           1       0.77      0.98      0.86       738\n",
      "\n",
      "   micro avg       0.94      0.94      0.94      3977\n",
      "   macro avg       0.88      0.96      0.91      3977\n",
      "weighted avg       0.95      0.94      0.94      3977\n",
      "\n"
     ]
    }
   ],
   "source": [
    "model1 = MultinomialNB()\n",
    "model2 = LogisticRegression()\n",
    "model3 = DecisionTreeClassifier()\n",
    "model = VotingClassifier(estimators=[('mnb', model1), ('lr', model2), ('dtc', model3)])\n",
    "model = model.fit(X_train, y_train)\n",
    "y_pred = model.predict(X_test)\n",
    "\n",
    "print(confusion_matrix(y_pred, y_test))\n",
    "print(classification_report(y_pred, y_test))"
   ]
  },
  {
   "cell_type": "markdown",
   "metadata": {},
   "source": [
    "# Final Model"
   ]
  },
  {
   "cell_type": "code",
   "execution_count": 33,
   "metadata": {
    "ExecuteTime": {
     "end_time": "2019-09-24T05:25:00.284351Z",
     "start_time": "2019-09-24T05:24:52.452227Z"
    }
   },
   "outputs": [
    {
     "name": "stderr",
     "output_type": "stream",
     "text": [
      "D:\\Users\\Ritvik\\Anaconda3\\envs\\datascience\\lib\\site-packages\\sklearn\\linear_model\\logistic.py:433: FutureWarning: Default solver will be changed to 'lbfgs' in 0.22. Specify a solver to silence this warning.\n",
      "  FutureWarning)\n"
     ]
    }
   ],
   "source": [
    "model1 = MultinomialNB()\n",
    "model2 = LogisticRegression()\n",
    "model3 = DecisionTreeClassifier()\n",
    "classifier = VotingClassifier(estimators=[('mnb', model1), ('lr', model2), ('dtc', model3)])\n",
    "classifier = classifier.fit(vector, y)"
   ]
  },
  {
   "cell_type": "code",
   "execution_count": 34,
   "metadata": {
    "ExecuteTime": {
     "end_time": "2019-09-24T05:25:00.293667Z",
     "start_time": "2019-09-24T05:25:00.287679Z"
    }
   },
   "outputs": [],
   "source": [
    "DIR = 'E:/Models/Spam-Filter'\n",
    "if not os.path.isdir(DIR):\n",
    "    os.mkdir(DIR)"
   ]
  },
  {
   "cell_type": "code",
   "execution_count": 35,
   "metadata": {
    "ExecuteTime": {
     "end_time": "2019-09-24T05:25:00.728652Z",
     "start_time": "2019-09-24T05:25:00.300254Z"
    }
   },
   "outputs": [],
   "source": [
    "pickle.dump(vectorizer, open(f'{DIR}/Vectorizer-spam.pickle', 'wb'))"
   ]
  },
  {
   "cell_type": "code",
   "execution_count": 36,
   "metadata": {
    "ExecuteTime": {
     "end_time": "2019-09-24T05:25:00.891578Z",
     "start_time": "2019-09-24T05:25:00.731564Z"
    }
   },
   "outputs": [],
   "source": [
    "pickle.dump(classifier, open(f'{DIR}/SpamClassifier.pickle', 'wb'))"
   ]
  },
  {
   "cell_type": "code",
   "execution_count": null,
   "metadata": {},
   "outputs": [],
   "source": []
  }
 ],
 "metadata": {
  "kernelspec": {
   "display_name": "Python 3",
   "language": "python",
   "name": "python3"
  },
  "language_info": {
   "codemirror_mode": {
    "name": "ipython",
    "version": 3
   },
   "file_extension": ".py",
   "mimetype": "text/x-python",
   "name": "python",
   "nbconvert_exporter": "python",
   "pygments_lexer": "ipython3",
   "version": "3.7.3"
  },
  "toc": {
   "base_numbering": 1,
   "nav_menu": {},
   "number_sections": true,
   "sideBar": true,
   "skip_h1_title": false,
   "title_cell": "Table of Contents",
   "title_sidebar": "Contents",
   "toc_cell": false,
   "toc_position": {},
   "toc_section_display": true,
   "toc_window_display": false
  },
  "varInspector": {
   "cols": {
    "lenName": 16,
    "lenType": 16,
    "lenVar": 40
   },
   "kernels_config": {
    "python": {
     "delete_cmd_postfix": "",
     "delete_cmd_prefix": "del ",
     "library": "var_list.py",
     "varRefreshCmd": "print(var_dic_list())"
    },
    "r": {
     "delete_cmd_postfix": ") ",
     "delete_cmd_prefix": "rm(",
     "library": "var_list.r",
     "varRefreshCmd": "cat(var_dic_list()) "
    }
   },
   "types_to_exclude": [
    "module",
    "function",
    "builtin_function_or_method",
    "instance",
    "_Feature"
   ],
   "window_display": false
  }
 },
 "nbformat": 4,
 "nbformat_minor": 2
}
